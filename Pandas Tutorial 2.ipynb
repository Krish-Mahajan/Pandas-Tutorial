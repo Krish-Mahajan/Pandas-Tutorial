{
 "cells": [
  {
   "cell_type": "code",
   "execution_count": 3,
   "metadata": {
    "collapsed": true
   },
   "outputs": [],
   "source": [
    "import pandas as pd \n",
    "import numpy as np  \n",
    "import matplotlib.pyplot as plt  \n",
    "pd.set_option('max_columns',50)  \n",
    "%matplotlib inline\n"
   ]
  },
  {
   "cell_type": "markdown",
   "metadata": {},
   "source": [
    "# Working with DataFrames\n",
    "\n",
    "\n",
    "Now that we can get data into a DataFrame, we can finally start working with them. pandas has an abundance of functionality, far too much for me to cover in this introduction. I'd encourage anyone interested in diving deeper into the library to check out its excellent documentation. Or just use Google - there are a lot of Stack Overflow questions and blog posts covering specifics of the library.\n",
    "\n",
    "We'll be using the MovieLens dataset in many examples going forward. The dataset contains 100,000 ratings made by 943 users on 1,682 movies.  "
   ]
  },
  {
   "cell_type": "code",
   "execution_count": 6,
   "metadata": {
    "collapsed": false
   },
   "outputs": [],
   "source": [
    "# pass in column names for each csv  \n",
    "u_cols = ['user_id','age','sex','occupation','zip_code']  \n",
    "users = pd.read_csv('ml-100K/u.user',sep='|',names=u_cols,encoding='latin-1')  \n",
    "\n",
    "r_cols = ['user_id','movie_id','rating','unix_timestamp']  \n",
    "ratings = pd.read_csv('./data/ml-100k/u.data',sep='\\t',names=r_cols,encoding='latin-1')  \n",
    "\n",
    "# the movies file contains columns indicating the movie's genres  \n",
    "# let's only load the first five columns of the file with usecols  \n",
    "\n",
    "m_cols = ['movie_id','title','release_date','video_release_date','imdb_url']   \n",
    "movies = pd.read_csv('./data/ml-100k/u.item',sep='|',names=m_cols,usecols=range(5),encoding ='latin-1')"
   ]
  },
  {
   "cell_type": "markdown",
   "metadata": {},
   "source": [
    "# Inspection   \n",
    "\n",
    "pandas has a variety of functions for getting basic information about your DataFrame, the most basic of which is using the info method.\n"
   ]
  },
  {
   "cell_type": "code",
   "execution_count": 7,
   "metadata": {
    "collapsed": false
   },
   "outputs": [
    {
     "name": "stdout",
     "output_type": "stream",
     "text": [
      "<class 'pandas.core.frame.DataFrame'>\n",
      "RangeIndex: 1682 entries, 0 to 1681\n",
      "Data columns (total 5 columns):\n",
      "movie_id              1682 non-null int64\n",
      "title                 1682 non-null object\n",
      "release_date          1681 non-null object\n",
      "video_release_date    0 non-null float64\n",
      "imdb_url              1679 non-null object\n",
      "dtypes: float64(1), int64(1), object(3)\n",
      "memory usage: 65.8+ KB\n"
     ]
    }
   ],
   "source": [
    "movies.info()"
   ]
  },
  {
   "cell_type": "markdown",
   "metadata": {},
   "source": [
    "The output tells a few things about our DataFrame.\n",
    "\n",
    "1. It's obviously an instance of a DataFrame.  \n",
    "2. Each row was assigned an index of 0 to N-1, where N is the number of rows in the DataFrame. pandas will do this by default if an index is not specified. Don't worry, this can be changed later.  \n",
    "3. There are 1,682 rows (every row must have an index).  \n",
    "4. Our dataset has five total columns, one of which isn't populated at all (video_release_date) and two that are missing some values (release_date and imdb_url).  \n",
    "5. The last datatypes of each column, but not necessarily in the corresponding order to the listed columns. You should use the dtypes method to get the datatype for each column.  \n",
    "6. An approximate amount of RAM used to hold the DataFrame. See the .memory_usage method  "
   ]
  },
  {
   "cell_type": "code",
   "execution_count": 9,
   "metadata": {
    "collapsed": false
   },
   "outputs": [
    {
     "data": {
      "text/plain": [
       "user_id        int64\n",
       "age            int64\n",
       "sex           object\n",
       "occupation    object\n",
       "zip_code      object\n",
       "dtype: object"
      ]
     },
     "execution_count": 9,
     "metadata": {},
     "output_type": "execute_result"
    }
   ],
   "source": [
    "users.dtypes  "
   ]
  },
  {
   "cell_type": "markdown",
   "metadata": {},
   "source": [
    "DataFrame's also have a `describe` method, **which is great for seeing basic statistics about the dataset's numeric columns**. Be careful though, since this will return information on all columns of a numeric datatype.  "
   ]
  },
  {
   "cell_type": "code",
   "execution_count": 10,
   "metadata": {
    "collapsed": false
   },
   "outputs": [
    {
     "data": {
      "text/html": [
       "<div>\n",
       "<table border=\"1\" class=\"dataframe\">\n",
       "  <thead>\n",
       "    <tr style=\"text-align: right;\">\n",
       "      <th></th>\n",
       "      <th>user_id</th>\n",
       "      <th>age</th>\n",
       "    </tr>\n",
       "  </thead>\n",
       "  <tbody>\n",
       "    <tr>\n",
       "      <th>count</th>\n",
       "      <td>943.000000</td>\n",
       "      <td>943.000000</td>\n",
       "    </tr>\n",
       "    <tr>\n",
       "      <th>mean</th>\n",
       "      <td>472.000000</td>\n",
       "      <td>34.051962</td>\n",
       "    </tr>\n",
       "    <tr>\n",
       "      <th>std</th>\n",
       "      <td>272.364951</td>\n",
       "      <td>12.192740</td>\n",
       "    </tr>\n",
       "    <tr>\n",
       "      <th>min</th>\n",
       "      <td>1.000000</td>\n",
       "      <td>7.000000</td>\n",
       "    </tr>\n",
       "    <tr>\n",
       "      <th>25%</th>\n",
       "      <td>236.500000</td>\n",
       "      <td>25.000000</td>\n",
       "    </tr>\n",
       "    <tr>\n",
       "      <th>50%</th>\n",
       "      <td>472.000000</td>\n",
       "      <td>31.000000</td>\n",
       "    </tr>\n",
       "    <tr>\n",
       "      <th>75%</th>\n",
       "      <td>707.500000</td>\n",
       "      <td>43.000000</td>\n",
       "    </tr>\n",
       "    <tr>\n",
       "      <th>max</th>\n",
       "      <td>943.000000</td>\n",
       "      <td>73.000000</td>\n",
       "    </tr>\n",
       "  </tbody>\n",
       "</table>\n",
       "</div>"
      ],
      "text/plain": [
       "          user_id         age\n",
       "count  943.000000  943.000000\n",
       "mean   472.000000   34.051962\n",
       "std    272.364951   12.192740\n",
       "min      1.000000    7.000000\n",
       "25%    236.500000   25.000000\n",
       "50%    472.000000   31.000000\n",
       "75%    707.500000   43.000000\n",
       "max    943.000000   73.000000"
      ]
     },
     "execution_count": 10,
     "metadata": {},
     "output_type": "execute_result"
    }
   ],
   "source": [
    "users.describe()  "
   ]
  },
  {
   "cell_type": "markdown",
   "metadata": {},
   "source": [
    "Notice user_id was included since it's numeric. Since this is an ID value, the stats for it don't really matter.\n",
    "\n",
    "We can quickly see the average age of our users is just above 34 years old, with the youngest being 7 and the oldest being 73. The median age is 31, with the youngest quartile of users being 25 or younger, and the oldest quartile being at least 43.  "
   ]
  },
  {
   "cell_type": "markdown",
   "metadata": {},
   "source": [
    "You've probably noticed that I've used the head method regularly throughout this post - by default, head displays the first five records of the dataset, while tail displays the last five.  "
   ]
  },
  {
   "cell_type": "code",
   "execution_count": 11,
   "metadata": {
    "collapsed": false
   },
   "outputs": [
    {
     "data": {
      "text/html": [
       "<div>\n",
       "<table border=\"1\" class=\"dataframe\">\n",
       "  <thead>\n",
       "    <tr style=\"text-align: right;\">\n",
       "      <th></th>\n",
       "      <th>movie_id</th>\n",
       "      <th>title</th>\n",
       "      <th>release_date</th>\n",
       "      <th>video_release_date</th>\n",
       "      <th>imdb_url</th>\n",
       "    </tr>\n",
       "  </thead>\n",
       "  <tbody>\n",
       "    <tr>\n",
       "      <th>0</th>\n",
       "      <td>1</td>\n",
       "      <td>Toy Story (1995)</td>\n",
       "      <td>01-Jan-1995</td>\n",
       "      <td>NaN</td>\n",
       "      <td>http://us.imdb.com/M/title-exact?Toy%20Story%2...</td>\n",
       "    </tr>\n",
       "    <tr>\n",
       "      <th>1</th>\n",
       "      <td>2</td>\n",
       "      <td>GoldenEye (1995)</td>\n",
       "      <td>01-Jan-1995</td>\n",
       "      <td>NaN</td>\n",
       "      <td>http://us.imdb.com/M/title-exact?GoldenEye%20(...</td>\n",
       "    </tr>\n",
       "    <tr>\n",
       "      <th>2</th>\n",
       "      <td>3</td>\n",
       "      <td>Four Rooms (1995)</td>\n",
       "      <td>01-Jan-1995</td>\n",
       "      <td>NaN</td>\n",
       "      <td>http://us.imdb.com/M/title-exact?Four%20Rooms%...</td>\n",
       "    </tr>\n",
       "    <tr>\n",
       "      <th>3</th>\n",
       "      <td>4</td>\n",
       "      <td>Get Shorty (1995)</td>\n",
       "      <td>01-Jan-1995</td>\n",
       "      <td>NaN</td>\n",
       "      <td>http://us.imdb.com/M/title-exact?Get%20Shorty%...</td>\n",
       "    </tr>\n",
       "    <tr>\n",
       "      <th>4</th>\n",
       "      <td>5</td>\n",
       "      <td>Copycat (1995)</td>\n",
       "      <td>01-Jan-1995</td>\n",
       "      <td>NaN</td>\n",
       "      <td>http://us.imdb.com/M/title-exact?Copycat%20(1995)</td>\n",
       "    </tr>\n",
       "  </tbody>\n",
       "</table>\n",
       "</div>"
      ],
      "text/plain": [
       "   movie_id              title release_date  video_release_date  \\\n",
       "0         1   Toy Story (1995)  01-Jan-1995                 NaN   \n",
       "1         2   GoldenEye (1995)  01-Jan-1995                 NaN   \n",
       "2         3  Four Rooms (1995)  01-Jan-1995                 NaN   \n",
       "3         4  Get Shorty (1995)  01-Jan-1995                 NaN   \n",
       "4         5     Copycat (1995)  01-Jan-1995                 NaN   \n",
       "\n",
       "                                            imdb_url  \n",
       "0  http://us.imdb.com/M/title-exact?Toy%20Story%2...  \n",
       "1  http://us.imdb.com/M/title-exact?GoldenEye%20(...  \n",
       "2  http://us.imdb.com/M/title-exact?Four%20Rooms%...  \n",
       "3  http://us.imdb.com/M/title-exact?Get%20Shorty%...  \n",
       "4  http://us.imdb.com/M/title-exact?Copycat%20(1995)  "
      ]
     },
     "execution_count": 11,
     "metadata": {},
     "output_type": "execute_result"
    }
   ],
   "source": [
    "movies.head()  "
   ]
  },
  {
   "cell_type": "code",
   "execution_count": 12,
   "metadata": {
    "collapsed": false
   },
   "outputs": [
    {
     "data": {
      "text/html": [
       "<div>\n",
       "<table border=\"1\" class=\"dataframe\">\n",
       "  <thead>\n",
       "    <tr style=\"text-align: right;\">\n",
       "      <th></th>\n",
       "      <th>movie_id</th>\n",
       "      <th>title</th>\n",
       "      <th>release_date</th>\n",
       "      <th>video_release_date</th>\n",
       "      <th>imdb_url</th>\n",
       "    </tr>\n",
       "  </thead>\n",
       "  <tbody>\n",
       "    <tr>\n",
       "      <th>1679</th>\n",
       "      <td>1680</td>\n",
       "      <td>Sliding Doors (1998)</td>\n",
       "      <td>01-Jan-1998</td>\n",
       "      <td>NaN</td>\n",
       "      <td>http://us.imdb.com/Title?Sliding+Doors+(1998)</td>\n",
       "    </tr>\n",
       "    <tr>\n",
       "      <th>1680</th>\n",
       "      <td>1681</td>\n",
       "      <td>You So Crazy (1994)</td>\n",
       "      <td>01-Jan-1994</td>\n",
       "      <td>NaN</td>\n",
       "      <td>http://us.imdb.com/M/title-exact?You%20So%20Cr...</td>\n",
       "    </tr>\n",
       "    <tr>\n",
       "      <th>1681</th>\n",
       "      <td>1682</td>\n",
       "      <td>Scream of Stone (Schrei aus Stein) (1991)</td>\n",
       "      <td>08-Mar-1996</td>\n",
       "      <td>NaN</td>\n",
       "      <td>http://us.imdb.com/M/title-exact?Schrei%20aus%...</td>\n",
       "    </tr>\n",
       "  </tbody>\n",
       "</table>\n",
       "</div>"
      ],
      "text/plain": [
       "      movie_id                                      title release_date  \\\n",
       "1679      1680                       Sliding Doors (1998)  01-Jan-1998   \n",
       "1680      1681                        You So Crazy (1994)  01-Jan-1994   \n",
       "1681      1682  Scream of Stone (Schrei aus Stein) (1991)  08-Mar-1996   \n",
       "\n",
       "      video_release_date                                           imdb_url  \n",
       "1679                 NaN      http://us.imdb.com/Title?Sliding+Doors+(1998)  \n",
       "1680                 NaN  http://us.imdb.com/M/title-exact?You%20So%20Cr...  \n",
       "1681                 NaN  http://us.imdb.com/M/title-exact?Schrei%20aus%...  "
      ]
     },
     "execution_count": 12,
     "metadata": {},
     "output_type": "execute_result"
    }
   ],
   "source": [
    "movies.tail(3)  "
   ]
  },
  {
   "cell_type": "markdown",
   "metadata": {},
   "source": [
    "Alternatively , Python's regular slicing syntax works as well  "
   ]
  },
  {
   "cell_type": "code",
   "execution_count": 13,
   "metadata": {
    "collapsed": false
   },
   "outputs": [
    {
     "data": {
      "text/html": [
       "<div>\n",
       "<table border=\"1\" class=\"dataframe\">\n",
       "  <thead>\n",
       "    <tr style=\"text-align: right;\">\n",
       "      <th></th>\n",
       "      <th>movie_id</th>\n",
       "      <th>title</th>\n",
       "      <th>release_date</th>\n",
       "      <th>video_release_date</th>\n",
       "      <th>imdb_url</th>\n",
       "    </tr>\n",
       "  </thead>\n",
       "  <tbody>\n",
       "    <tr>\n",
       "      <th>20</th>\n",
       "      <td>21</td>\n",
       "      <td>Muppet Treasure Island (1996)</td>\n",
       "      <td>16-Feb-1996</td>\n",
       "      <td>NaN</td>\n",
       "      <td>http://us.imdb.com/M/title-exact?Muppet%20Trea...</td>\n",
       "    </tr>\n",
       "    <tr>\n",
       "      <th>21</th>\n",
       "      <td>22</td>\n",
       "      <td>Braveheart (1995)</td>\n",
       "      <td>16-Feb-1996</td>\n",
       "      <td>NaN</td>\n",
       "      <td>http://us.imdb.com/M/title-exact?Braveheart%20...</td>\n",
       "    </tr>\n",
       "  </tbody>\n",
       "</table>\n",
       "</div>"
      ],
      "text/plain": [
       "    movie_id                          title release_date  video_release_date  \\\n",
       "20        21  Muppet Treasure Island (1996)  16-Feb-1996                 NaN   \n",
       "21        22              Braveheart (1995)  16-Feb-1996                 NaN   \n",
       "\n",
       "                                             imdb_url  \n",
       "20  http://us.imdb.com/M/title-exact?Muppet%20Trea...  \n",
       "21  http://us.imdb.com/M/title-exact?Braveheart%20...  "
      ]
     },
     "execution_count": 13,
     "metadata": {},
     "output_type": "execute_result"
    }
   ],
   "source": [
    "movies[20:22]  "
   ]
  },
  {
   "cell_type": "markdown",
   "metadata": {},
   "source": [
    "# Selecting    \n",
    "\n",
    "You can think of a DataFrame as a group of Series that share an index (in this case the column headers). This makes it easy to select specific columns.  \n",
    "\n",
    "Selecting a single column from the DataFrame will return a Series object.  \n",
    "\n"
   ]
  },
  {
   "cell_type": "code",
   "execution_count": 14,
   "metadata": {
    "collapsed": false
   },
   "outputs": [
    {
     "data": {
      "text/html": [
       "<div>\n",
       "<table border=\"1\" class=\"dataframe\">\n",
       "  <thead>\n",
       "    <tr style=\"text-align: right;\">\n",
       "      <th></th>\n",
       "      <th>user_id</th>\n",
       "      <th>age</th>\n",
       "      <th>sex</th>\n",
       "      <th>occupation</th>\n",
       "      <th>zip_code</th>\n",
       "    </tr>\n",
       "  </thead>\n",
       "  <tbody>\n",
       "    <tr>\n",
       "      <th>0</th>\n",
       "      <td>1</td>\n",
       "      <td>24</td>\n",
       "      <td>M</td>\n",
       "      <td>technician</td>\n",
       "      <td>85711</td>\n",
       "    </tr>\n",
       "    <tr>\n",
       "      <th>1</th>\n",
       "      <td>2</td>\n",
       "      <td>53</td>\n",
       "      <td>F</td>\n",
       "      <td>other</td>\n",
       "      <td>94043</td>\n",
       "    </tr>\n",
       "    <tr>\n",
       "      <th>2</th>\n",
       "      <td>3</td>\n",
       "      <td>23</td>\n",
       "      <td>M</td>\n",
       "      <td>writer</td>\n",
       "      <td>32067</td>\n",
       "    </tr>\n",
       "    <tr>\n",
       "      <th>3</th>\n",
       "      <td>4</td>\n",
       "      <td>24</td>\n",
       "      <td>M</td>\n",
       "      <td>technician</td>\n",
       "      <td>43537</td>\n",
       "    </tr>\n",
       "    <tr>\n",
       "      <th>4</th>\n",
       "      <td>5</td>\n",
       "      <td>33</td>\n",
       "      <td>F</td>\n",
       "      <td>other</td>\n",
       "      <td>15213</td>\n",
       "    </tr>\n",
       "  </tbody>\n",
       "</table>\n",
       "</div>"
      ],
      "text/plain": [
       "   user_id  age sex  occupation zip_code\n",
       "0        1   24   M  technician    85711\n",
       "1        2   53   F       other    94043\n",
       "2        3   23   M      writer    32067\n",
       "3        4   24   M  technician    43537\n",
       "4        5   33   F       other    15213"
      ]
     },
     "execution_count": 14,
     "metadata": {},
     "output_type": "execute_result"
    }
   ],
   "source": [
    "users.head()"
   ]
  },
  {
   "cell_type": "code",
   "execution_count": 15,
   "metadata": {
    "collapsed": false
   },
   "outputs": [
    {
     "data": {
      "text/plain": [
       "0    technician\n",
       "1         other\n",
       "2        writer\n",
       "3    technician\n",
       "4         other\n",
       "Name: occupation, dtype: object"
      ]
     },
     "execution_count": 15,
     "metadata": {},
     "output_type": "execute_result"
    }
   ],
   "source": [
    "users['occupation'].head()  "
   ]
  },
  {
   "cell_type": "code",
   "execution_count": 16,
   "metadata": {
    "collapsed": false
   },
   "outputs": [
    {
     "name": "stdout",
     "output_type": "stream",
     "text": [
      "<class 'pandas.core.series.Series'>\n"
     ]
    }
   ],
   "source": [
    "print(type(users['occupation'].head()))"
   ]
  },
  {
   "cell_type": "markdown",
   "metadata": {},
   "source": [
    "To select multiple columns, simply pass a list of column names to the DataFrame, the output of which will be a DataFrame.  "
   ]
  },
  {
   "cell_type": "code",
   "execution_count": 21,
   "metadata": {
    "collapsed": false
   },
   "outputs": [
    {
     "name": "stdout",
     "output_type": "stream",
     "text": [
      "   age zip_code\n",
      "0   24    85711\n",
      "1   53    94043\n",
      "2   23    32067\n",
      "3   24    43537\n",
      "4   33    15213\n",
      "\n",
      "\n",
      "   occupation sex\n",
      "0  technician   M\n",
      "1       other   F\n",
      "2      writer   M\n",
      "3  technician   M\n",
      "4       other   F\n"
     ]
    }
   ],
   "source": [
    "print(users[['age','zip_code']].head())  \n",
    "print('\\n')   \n",
    "             \n",
    "# can also store in a variable to use later  \n",
    "columns_you_want = ['occupation','sex']  \n",
    "print(users[columns_you_want].head())                 "
   ]
  },
  {
   "cell_type": "code",
   "execution_count": 22,
   "metadata": {
    "collapsed": false
   },
   "outputs": [
    {
     "name": "stdout",
     "output_type": "stream",
     "text": [
      "<class 'pandas.core.frame.DataFrame'>\n"
     ]
    }
   ],
   "source": [
    "print(type(users[columns_you_want]))"
   ]
  },
  {
   "cell_type": "markdown",
   "metadata": {},
   "source": [
    "Row selection can be done multiple ways, but doing so by an individual index or boolean indexing are typically easiest.  "
   ]
  },
  {
   "cell_type": "code",
   "execution_count": 23,
   "metadata": {
    "collapsed": false
   },
   "outputs": [
    {
     "name": "stdout",
     "output_type": "stream",
     "text": [
      "   user_id  age sex occupation zip_code\n",
      "1        2   53   F      other    94043\n",
      "4        5   33   F      other    15213\n",
      "5        6   42   M  executive    98101\n",
      "\n",
      "\n",
      "     user_id  age sex  occupation zip_code\n",
      "18        19   40   M   librarian    02138\n",
      "82        83   40   M       other    44133\n",
      "115      116   40   M  healthcare    97232\n"
     ]
    }
   ],
   "source": [
    "#users older than 25  \n",
    "print(users[users.age>25].head(3))  \n",
    "print('\\n')  \n",
    "\n",
    "#users aged 40 and male  \n",
    "print(users[(users.age==40) & (users.sex =='M')].head(3))"
   ]
  },
  {
   "cell_type": "markdown",
   "metadata": {},
   "source": [
    "Since our index is kind of meaningless right now, let's set it to the user_id using the set_index method. By default, set_index returns a new DataFrame, so you'll have to specify if you'd like the changes to occur in place.  \n",
    "\n",
    "This has confused me in the past ,so look carefully at the code and output below  "
   ]
  },
  {
   "cell_type": "code",
   "execution_count": 24,
   "metadata": {
    "collapsed": false
   },
   "outputs": [
    {
     "name": "stdout",
     "output_type": "stream",
     "text": [
      "         age sex  occupation zip_code\n",
      "user_id                              \n",
      "1         24   M  technician    85711\n",
      "2         53   F       other    94043\n",
      "3         23   M      writer    32067\n",
      "4         24   M  technician    43537\n",
      "5         33   F       other    15213\n",
      "\n",
      "\n",
      "   user_id  age sex  occupation zip_code\n",
      "0        1   24   M  technician    85711\n",
      "1        2   53   F       other    94043\n",
      "2        3   23   M      writer    32067\n",
      "3        4   24   M  technician    43537\n",
      "4        5   33   F       other    15213\n",
      "\n",
      "^^^ I didn't actually change the DataFrame. ^^^\n",
      "\n"
     ]
    }
   ],
   "source": [
    "print(users.set_index('user_id').head())\n",
    "print('\\n')  \n",
    "\n",
    "print(users.head())  \n",
    "print(\"\\n^^^ I didn't actually change the DataFrame. ^^^\\n\") \n"
   ]
  },
  {
   "cell_type": "code",
   "execution_count": 25,
   "metadata": {
    "collapsed": false
   },
   "outputs": [
    {
     "name": "stdout",
     "output_type": "stream",
     "text": [
      "         age sex  occupation zip_code\n",
      "user_id                              \n",
      "1         24   M  technician    85711\n",
      "2         53   F       other    94043\n",
      "3         23   M      writer    32067\n",
      "4         24   M  technician    43537\n",
      "5         33   F       other    15213\n",
      "\n",
      " ^^^ set_index actually returns a new DataFrame. ^^^\n",
      "\n"
     ]
    }
   ],
   "source": [
    "with_new_index = users.set_index('user_id')  \n",
    "print(with_new_index.head())  \n",
    "print(\"\\n ^^^ set_index actually returns a new DataFrame. ^^^\\n\")  "
   ]
  },
  {
   "cell_type": "markdown",
   "metadata": {},
   "source": [
    "If you want to modify your existing DataFrame, use the inplace parameter. Most DataFrame methods return new a DataFrames, while offering an inplace parameter. Note that the inplace version might not actually be any more efficint (in terms of speed or memory usage) that the regular version.  "
   ]
  },
  {
   "cell_type": "code",
   "execution_count": 26,
   "metadata": {
    "collapsed": false
   },
   "outputs": [
    {
     "data": {
      "text/html": [
       "<div>\n",
       "<table border=\"1\" class=\"dataframe\">\n",
       "  <thead>\n",
       "    <tr style=\"text-align: right;\">\n",
       "      <th></th>\n",
       "      <th>age</th>\n",
       "      <th>sex</th>\n",
       "      <th>occupation</th>\n",
       "      <th>zip_code</th>\n",
       "    </tr>\n",
       "    <tr>\n",
       "      <th>user_id</th>\n",
       "      <th></th>\n",
       "      <th></th>\n",
       "      <th></th>\n",
       "      <th></th>\n",
       "    </tr>\n",
       "  </thead>\n",
       "  <tbody>\n",
       "    <tr>\n",
       "      <th>1</th>\n",
       "      <td>24</td>\n",
       "      <td>M</td>\n",
       "      <td>technician</td>\n",
       "      <td>85711</td>\n",
       "    </tr>\n",
       "    <tr>\n",
       "      <th>2</th>\n",
       "      <td>53</td>\n",
       "      <td>F</td>\n",
       "      <td>other</td>\n",
       "      <td>94043</td>\n",
       "    </tr>\n",
       "    <tr>\n",
       "      <th>3</th>\n",
       "      <td>23</td>\n",
       "      <td>M</td>\n",
       "      <td>writer</td>\n",
       "      <td>32067</td>\n",
       "    </tr>\n",
       "    <tr>\n",
       "      <th>4</th>\n",
       "      <td>24</td>\n",
       "      <td>M</td>\n",
       "      <td>technician</td>\n",
       "      <td>43537</td>\n",
       "    </tr>\n",
       "    <tr>\n",
       "      <th>5</th>\n",
       "      <td>33</td>\n",
       "      <td>F</td>\n",
       "      <td>other</td>\n",
       "      <td>15213</td>\n",
       "    </tr>\n",
       "  </tbody>\n",
       "</table>\n",
       "</div>"
      ],
      "text/plain": [
       "         age sex  occupation zip_code\n",
       "user_id                              \n",
       "1         24   M  technician    85711\n",
       "2         53   F       other    94043\n",
       "3         23   M      writer    32067\n",
       "4         24   M  technician    43537\n",
       "5         33   F       other    15213"
      ]
     },
     "execution_count": 26,
     "metadata": {},
     "output_type": "execute_result"
    }
   ],
   "source": [
    "users.set_index('user_id',inplace= True)  \n",
    "users.head() "
   ]
  },
  {
   "cell_type": "markdown",
   "metadata": {},
   "source": [
    "Notice that we've lost the default pandas 0-based index and moved the user_id into its place. We can select rows by position using the iloc method."
   ]
  },
  {
   "cell_type": "markdown",
   "metadata": {},
   "source": [
    "# ** If selecting rows by label use loc ** "
   ]
  },
  {
   "cell_type": "code",
   "execution_count": 36,
   "metadata": {
    "collapsed": false
   },
   "outputs": [
    {
     "name": "stdout",
     "output_type": "stream",
     "text": [
      "age                  36\n",
      "sex                   M\n",
      "occupation    executive\n",
      "zip_code          90254\n",
      "Name: 100, dtype: object\n",
      "\n",
      "\n",
      "         age sex occupation zip_code\n",
      "user_id                             \n",
      "2         53   F      other    94043\n",
      "51        28   M   educator    16509\n",
      "301       24   M    student    55439\n"
     ]
    }
   ],
   "source": [
    "print(users.loc[100])  \n",
    "print('\\n')  \n",
    "print(users.loc[[2,51,301]])  "
   ]
  },
  {
   "cell_type": "markdown",
   "metadata": {},
   "source": [
    "# If selecting rows by position(0 based indexing) use iloc  "
   ]
  },
  {
   "cell_type": "code",
   "execution_count": 37,
   "metadata": {
    "collapsed": false
   },
   "outputs": [
    {
     "name": "stdout",
     "output_type": "stream",
     "text": [
      "age                  36\n",
      "sex                   M\n",
      "occupation    executive\n",
      "zip_code          90254\n",
      "Name: 100, dtype: object\n",
      "\n",
      "\n",
      "age                  36\n",
      "sex                   M\n",
      "occupation    executive\n",
      "zip_code          90254\n",
      "Name: 100, dtype: object\n"
     ]
    }
   ],
   "source": [
    "print(users.loc[100])  \n",
    "print('\\n')  \n",
    "print(users.iloc[99])  "
   ]
  },
  {
   "cell_type": "code",
   "execution_count": 38,
   "metadata": {
    "collapsed": false
   },
   "outputs": [
    {
     "name": "stdout",
     "output_type": "stream",
     "text": [
      "         age sex occupation zip_code\n",
      "user_id                             \n",
      "2         53   F      other    94043\n",
      "51        28   M   educator    16509\n",
      "301       24   M    student    55439\n"
     ]
    }
   ],
   "source": [
    "print(users.iloc[[1,50,300]])  "
   ]
  },
  {
   "cell_type": "markdown",
   "metadata": {},
   "source": [
    "If we realize later that we liked the old pandas default index, we can just reset_index. The same rules for inplace apply.  "
   ]
  },
  {
   "cell_type": "code",
   "execution_count": 39,
   "metadata": {
    "collapsed": false
   },
   "outputs": [
    {
     "data": {
      "text/html": [
       "<div>\n",
       "<table border=\"1\" class=\"dataframe\">\n",
       "  <thead>\n",
       "    <tr style=\"text-align: right;\">\n",
       "      <th></th>\n",
       "      <th>user_id</th>\n",
       "      <th>age</th>\n",
       "      <th>sex</th>\n",
       "      <th>occupation</th>\n",
       "      <th>zip_code</th>\n",
       "    </tr>\n",
       "  </thead>\n",
       "  <tbody>\n",
       "    <tr>\n",
       "      <th>0</th>\n",
       "      <td>1</td>\n",
       "      <td>24</td>\n",
       "      <td>M</td>\n",
       "      <td>technician</td>\n",
       "      <td>85711</td>\n",
       "    </tr>\n",
       "    <tr>\n",
       "      <th>1</th>\n",
       "      <td>2</td>\n",
       "      <td>53</td>\n",
       "      <td>F</td>\n",
       "      <td>other</td>\n",
       "      <td>94043</td>\n",
       "    </tr>\n",
       "    <tr>\n",
       "      <th>2</th>\n",
       "      <td>3</td>\n",
       "      <td>23</td>\n",
       "      <td>M</td>\n",
       "      <td>writer</td>\n",
       "      <td>32067</td>\n",
       "    </tr>\n",
       "    <tr>\n",
       "      <th>3</th>\n",
       "      <td>4</td>\n",
       "      <td>24</td>\n",
       "      <td>M</td>\n",
       "      <td>technician</td>\n",
       "      <td>43537</td>\n",
       "    </tr>\n",
       "    <tr>\n",
       "      <th>4</th>\n",
       "      <td>5</td>\n",
       "      <td>33</td>\n",
       "      <td>F</td>\n",
       "      <td>other</td>\n",
       "      <td>15213</td>\n",
       "    </tr>\n",
       "  </tbody>\n",
       "</table>\n",
       "</div>"
      ],
      "text/plain": [
       "   user_id  age sex  occupation zip_code\n",
       "0        1   24   M  technician    85711\n",
       "1        2   53   F       other    94043\n",
       "2        3   23   M      writer    32067\n",
       "3        4   24   M  technician    43537\n",
       "4        5   33   F       other    15213"
      ]
     },
     "execution_count": 39,
     "metadata": {},
     "output_type": "execute_result"
    }
   ],
   "source": [
    "users.reset_index(inplace=True)  \n",
    "users.head()  "
   ]
  },
  {
   "cell_type": "markdown",
   "metadata": {},
   "source": [
    "The simplified rules of indexing are\n",
    "\n",
    "- **Use loc for label-based indexing**\n",
    "- **Use iloc for positional indexing**    \n",
    "I've found that I can usually get by with boolean indexing, loc and iloc, but pandas has a whole host of other ways to do selection.  "
   ]
  },
  {
   "cell_type": "markdown",
   "metadata": {},
   "source": [
    " # Joining  \n",
    " Throughout an analysis, we'll often need to merge/join datasets as data is typically stored in a **relational** manner.\n",
    "\n",
    "Our MovieLens data is a good example of this - a rating requires both a user and a movie, and the datasets are linked together by a key - in this case, the user_id and movie_id. It's possible for a user to be associated with zero or many ratings and movies. Likewise, a movie can be rated zero or many times, by a number of different users.\n",
    "\n",
    "Like SQL's JOIN clause, **pandas.merge** allows two DataFrames to be joined on one or more keys. The function provides a series of parameters **(on, left_on, right_on, left_index, right_index)** allowing you to specify the columns or indexes on which to join.  \n",
    "\n",
    "By default, `pandas.merge` operates as an *inner join*, which can be changed using the `how` parameter.  "
   ]
  },
  {
   "cell_type": "markdown",
   "metadata": {},
   "source": [
    " Below are some examples of what each look like."
   ]
  },
  {
   "cell_type": "code",
   "execution_count": 40,
   "metadata": {
    "collapsed": false
   },
   "outputs": [
    {
     "name": "stdout",
     "output_type": "stream",
     "text": [
      "   Key left_value\n",
      "0    0          a\n",
      "1    1          b\n",
      "2    2          c\n",
      "3    3          d\n",
      "4    4          e\n",
      "\n",
      "\n",
      "   Key right_value\n",
      "0    2           f\n",
      "1    3           g\n",
      "2    4           h\n",
      "3    5           i\n",
      "4    6           j\n"
     ]
    }
   ],
   "source": [
    "left_frame = pd.DataFrame({'Key':range(5),'left_value':['a','b','c','d','e']})  \n",
    "right_frame = pd.DataFrame({'Key':range(2,7),'right_value':['f','g','h','i','j']})  \n",
    "\n",
    "print(left_frame)  \n",
    "print('\\n')  \n",
    "print(right_frame)  "
   ]
  },
  {
   "cell_type": "markdown",
   "metadata": {},
   "source": [
    " # inner join(default)"
   ]
  },
  {
   "cell_type": "code",
   "execution_count": 42,
   "metadata": {
    "collapsed": false
   },
   "outputs": [
    {
     "data": {
      "text/html": [
       "<div>\n",
       "<table border=\"1\" class=\"dataframe\">\n",
       "  <thead>\n",
       "    <tr style=\"text-align: right;\">\n",
       "      <th></th>\n",
       "      <th>Key</th>\n",
       "      <th>left_value</th>\n",
       "      <th>right_value</th>\n",
       "    </tr>\n",
       "  </thead>\n",
       "  <tbody>\n",
       "    <tr>\n",
       "      <th>0</th>\n",
       "      <td>2</td>\n",
       "      <td>c</td>\n",
       "      <td>f</td>\n",
       "    </tr>\n",
       "    <tr>\n",
       "      <th>1</th>\n",
       "      <td>3</td>\n",
       "      <td>d</td>\n",
       "      <td>g</td>\n",
       "    </tr>\n",
       "    <tr>\n",
       "      <th>2</th>\n",
       "      <td>4</td>\n",
       "      <td>e</td>\n",
       "      <td>h</td>\n",
       "    </tr>\n",
       "  </tbody>\n",
       "</table>\n",
       "</div>"
      ],
      "text/plain": [
       "   Key left_value right_value\n",
       "0    2          c           f\n",
       "1    3          d           g\n",
       "2    4          e           h"
      ]
     },
     "execution_count": 42,
     "metadata": {},
     "output_type": "execute_result"
    }
   ],
   "source": [
    "pd.merge(left_frame,right_frame,on='Key',how='inner')  "
   ]
  },
  {
   "cell_type": "markdown",
   "metadata": {},
   "source": [
    "We lose values from both frames since certain keys do not match up. The SQL equivalent is:"
   ]
  },
  {
   "cell_type": "markdown",
   "metadata": {},
   "source": [
    "```  \n",
    "SELECT left_frame.key, left_frame.left_value, right_frame.right_value\n",
    "    FROM left_frame\n",
    "    INNER JOIN right_frame\n",
    "        ON left_frame.key = right_frame.key\n",
    "\n",
    "```"
   ]
  },
  {
   "cell_type": "markdown",
   "metadata": {},
   "source": [
    "Had our key columns not been named the same, we could have used the left_on and right_on parameters to specify which fields to join from each frame. python     ```pd.merge(left_frame, right_frame, left_on='left_key', right_on='right_key')``` Alternatively, if our keys were indexes, we could use the left_index or right_index parameters, which accept a True/False value. You can mix and match columns and indexes like so: python     ```pd.merge(left_frame, right_frame, left_on='key', right_index=True)```"
   ]
  },
  {
   "cell_type": "markdown",
   "metadata": {},
   "source": [
    "# left outer join"
   ]
  },
  {
   "cell_type": "code",
   "execution_count": 44,
   "metadata": {
    "collapsed": false
   },
   "outputs": [
    {
     "data": {
      "text/html": [
       "<div>\n",
       "<table border=\"1\" class=\"dataframe\">\n",
       "  <thead>\n",
       "    <tr style=\"text-align: right;\">\n",
       "      <th></th>\n",
       "      <th>Key</th>\n",
       "      <th>left_value</th>\n",
       "      <th>right_value</th>\n",
       "    </tr>\n",
       "  </thead>\n",
       "  <tbody>\n",
       "    <tr>\n",
       "      <th>0</th>\n",
       "      <td>0</td>\n",
       "      <td>a</td>\n",
       "      <td>NaN</td>\n",
       "    </tr>\n",
       "    <tr>\n",
       "      <th>1</th>\n",
       "      <td>1</td>\n",
       "      <td>b</td>\n",
       "      <td>NaN</td>\n",
       "    </tr>\n",
       "    <tr>\n",
       "      <th>2</th>\n",
       "      <td>2</td>\n",
       "      <td>c</td>\n",
       "      <td>f</td>\n",
       "    </tr>\n",
       "    <tr>\n",
       "      <th>3</th>\n",
       "      <td>3</td>\n",
       "      <td>d</td>\n",
       "      <td>g</td>\n",
       "    </tr>\n",
       "    <tr>\n",
       "      <th>4</th>\n",
       "      <td>4</td>\n",
       "      <td>e</td>\n",
       "      <td>h</td>\n",
       "    </tr>\n",
       "  </tbody>\n",
       "</table>\n",
       "</div>"
      ],
      "text/plain": [
       "   Key left_value right_value\n",
       "0    0          a         NaN\n",
       "1    1          b         NaN\n",
       "2    2          c           f\n",
       "3    3          d           g\n",
       "4    4          e           h"
      ]
     },
     "execution_count": 44,
     "metadata": {},
     "output_type": "execute_result"
    }
   ],
   "source": [
    "pd.merge(left_frame,right_frame,on='Key',how='left')  "
   ]
  },
  {
   "cell_type": "markdown",
   "metadata": {},
   "source": [
    "# Right outer join "
   ]
  },
  {
   "cell_type": "code",
   "execution_count": 46,
   "metadata": {
    "collapsed": false
   },
   "outputs": [
    {
     "data": {
      "text/html": [
       "<div>\n",
       "<table border=\"1\" class=\"dataframe\">\n",
       "  <thead>\n",
       "    <tr style=\"text-align: right;\">\n",
       "      <th></th>\n",
       "      <th>Key</th>\n",
       "      <th>left_value</th>\n",
       "      <th>right_value</th>\n",
       "    </tr>\n",
       "  </thead>\n",
       "  <tbody>\n",
       "    <tr>\n",
       "      <th>0</th>\n",
       "      <td>2.0</td>\n",
       "      <td>c</td>\n",
       "      <td>f</td>\n",
       "    </tr>\n",
       "    <tr>\n",
       "      <th>1</th>\n",
       "      <td>3.0</td>\n",
       "      <td>d</td>\n",
       "      <td>g</td>\n",
       "    </tr>\n",
       "    <tr>\n",
       "      <th>2</th>\n",
       "      <td>4.0</td>\n",
       "      <td>e</td>\n",
       "      <td>h</td>\n",
       "    </tr>\n",
       "    <tr>\n",
       "      <th>3</th>\n",
       "      <td>5.0</td>\n",
       "      <td>NaN</td>\n",
       "      <td>i</td>\n",
       "    </tr>\n",
       "    <tr>\n",
       "      <th>4</th>\n",
       "      <td>6.0</td>\n",
       "      <td>NaN</td>\n",
       "      <td>j</td>\n",
       "    </tr>\n",
       "  </tbody>\n",
       "</table>\n",
       "</div>"
      ],
      "text/plain": [
       "   Key left_value right_value\n",
       "0  2.0          c           f\n",
       "1  3.0          d           g\n",
       "2  4.0          e           h\n",
       "3  5.0        NaN           i\n",
       "4  6.0        NaN           j"
      ]
     },
     "execution_count": 46,
     "metadata": {},
     "output_type": "execute_result"
    }
   ],
   "source": [
    "pd.merge(left_frame,right_frame,on='Key',how='right')  "
   ]
  },
  {
   "cell_type": "markdown",
   "metadata": {},
   "source": [
    "# Full outer join "
   ]
  },
  {
   "cell_type": "code",
   "execution_count": 48,
   "metadata": {
    "collapsed": false
   },
   "outputs": [
    {
     "data": {
      "text/html": [
       "<div>\n",
       "<table border=\"1\" class=\"dataframe\">\n",
       "  <thead>\n",
       "    <tr style=\"text-align: right;\">\n",
       "      <th></th>\n",
       "      <th>Key</th>\n",
       "      <th>left_value</th>\n",
       "      <th>right_value</th>\n",
       "    </tr>\n",
       "  </thead>\n",
       "  <tbody>\n",
       "    <tr>\n",
       "      <th>0</th>\n",
       "      <td>0.0</td>\n",
       "      <td>a</td>\n",
       "      <td>NaN</td>\n",
       "    </tr>\n",
       "    <tr>\n",
       "      <th>1</th>\n",
       "      <td>1.0</td>\n",
       "      <td>b</td>\n",
       "      <td>NaN</td>\n",
       "    </tr>\n",
       "    <tr>\n",
       "      <th>2</th>\n",
       "      <td>2.0</td>\n",
       "      <td>c</td>\n",
       "      <td>f</td>\n",
       "    </tr>\n",
       "    <tr>\n",
       "      <th>3</th>\n",
       "      <td>3.0</td>\n",
       "      <td>d</td>\n",
       "      <td>g</td>\n",
       "    </tr>\n",
       "    <tr>\n",
       "      <th>4</th>\n",
       "      <td>4.0</td>\n",
       "      <td>e</td>\n",
       "      <td>h</td>\n",
       "    </tr>\n",
       "    <tr>\n",
       "      <th>5</th>\n",
       "      <td>5.0</td>\n",
       "      <td>NaN</td>\n",
       "      <td>i</td>\n",
       "    </tr>\n",
       "    <tr>\n",
       "      <th>6</th>\n",
       "      <td>6.0</td>\n",
       "      <td>NaN</td>\n",
       "      <td>j</td>\n",
       "    </tr>\n",
       "  </tbody>\n",
       "</table>\n",
       "</div>"
      ],
      "text/plain": [
       "   Key left_value right_value\n",
       "0  0.0          a         NaN\n",
       "1  1.0          b         NaN\n",
       "2  2.0          c           f\n",
       "3  3.0          d           g\n",
       "4  4.0          e           h\n",
       "5  5.0        NaN           i\n",
       "6  6.0        NaN           j"
      ]
     },
     "execution_count": 48,
     "metadata": {},
     "output_type": "execute_result"
    }
   ],
   "source": [
    "pd.merge(left_frame,right_frame,on='Key',how='outer')  "
   ]
  },
  {
   "cell_type": "markdown",
   "metadata": {},
   "source": [
    "# combining  "
   ]
  },
  {
   "cell_type": "markdown",
   "metadata": {},
   "source": [
    "pandas also provides a way to combine DataFrames along an axis - ```pandas.concat```. While the function is equivalent to SQL's UNION clause, there's a lot more that can be done with it."
   ]
  },
  {
   "cell_type": "markdown",
   "metadata": {},
   "source": [
    "```pandas.concat``` takes a list of Series or DataFrames and returns a Series or DataFrame of the concatenated objects. Note that because the function takes list, you can combine many objects at once."
   ]
  },
  {
   "cell_type": "code",
   "execution_count": 50,
   "metadata": {
    "collapsed": false
   },
   "outputs": [
    {
     "data": {
      "text/html": [
       "<div>\n",
       "<table border=\"1\" class=\"dataframe\">\n",
       "  <thead>\n",
       "    <tr style=\"text-align: right;\">\n",
       "      <th></th>\n",
       "      <th>Key</th>\n",
       "      <th>left_value</th>\n",
       "      <th>right_value</th>\n",
       "    </tr>\n",
       "  </thead>\n",
       "  <tbody>\n",
       "    <tr>\n",
       "      <th>0</th>\n",
       "      <td>0</td>\n",
       "      <td>a</td>\n",
       "      <td>NaN</td>\n",
       "    </tr>\n",
       "    <tr>\n",
       "      <th>1</th>\n",
       "      <td>1</td>\n",
       "      <td>b</td>\n",
       "      <td>NaN</td>\n",
       "    </tr>\n",
       "    <tr>\n",
       "      <th>2</th>\n",
       "      <td>2</td>\n",
       "      <td>c</td>\n",
       "      <td>NaN</td>\n",
       "    </tr>\n",
       "    <tr>\n",
       "      <th>3</th>\n",
       "      <td>3</td>\n",
       "      <td>d</td>\n",
       "      <td>NaN</td>\n",
       "    </tr>\n",
       "    <tr>\n",
       "      <th>4</th>\n",
       "      <td>4</td>\n",
       "      <td>e</td>\n",
       "      <td>NaN</td>\n",
       "    </tr>\n",
       "    <tr>\n",
       "      <th>0</th>\n",
       "      <td>2</td>\n",
       "      <td>NaN</td>\n",
       "      <td>f</td>\n",
       "    </tr>\n",
       "    <tr>\n",
       "      <th>1</th>\n",
       "      <td>3</td>\n",
       "      <td>NaN</td>\n",
       "      <td>g</td>\n",
       "    </tr>\n",
       "    <tr>\n",
       "      <th>2</th>\n",
       "      <td>4</td>\n",
       "      <td>NaN</td>\n",
       "      <td>h</td>\n",
       "    </tr>\n",
       "    <tr>\n",
       "      <th>3</th>\n",
       "      <td>5</td>\n",
       "      <td>NaN</td>\n",
       "      <td>i</td>\n",
       "    </tr>\n",
       "    <tr>\n",
       "      <th>4</th>\n",
       "      <td>6</td>\n",
       "      <td>NaN</td>\n",
       "      <td>j</td>\n",
       "    </tr>\n",
       "  </tbody>\n",
       "</table>\n",
       "</div>"
      ],
      "text/plain": [
       "   Key left_value right_value\n",
       "0    0          a         NaN\n",
       "1    1          b         NaN\n",
       "2    2          c         NaN\n",
       "3    3          d         NaN\n",
       "4    4          e         NaN\n",
       "0    2        NaN           f\n",
       "1    3        NaN           g\n",
       "2    4        NaN           h\n",
       "3    5        NaN           i\n",
       "4    6        NaN           j"
      ]
     },
     "execution_count": 50,
     "metadata": {},
     "output_type": "execute_result"
    }
   ],
   "source": [
    "pd.concat([left_frame,right_frame]) \n"
   ]
  },
  {
   "cell_type": "markdown",
   "metadata": {},
   "source": [
    "By default, the function will vertically append the objects to one another, combining columns with the same name. We can see above that values not matching up will be NULL.  \n",
    "\n",
    "Additionally, objects can be concatentated side-by-side using the function's axis parameter.  "
   ]
  },
  {
   "cell_type": "code",
   "execution_count": 51,
   "metadata": {
    "collapsed": false
   },
   "outputs": [
    {
     "data": {
      "text/html": [
       "<div>\n",
       "<table border=\"1\" class=\"dataframe\">\n",
       "  <thead>\n",
       "    <tr style=\"text-align: right;\">\n",
       "      <th></th>\n",
       "      <th>Key</th>\n",
       "      <th>left_value</th>\n",
       "      <th>Key</th>\n",
       "      <th>right_value</th>\n",
       "    </tr>\n",
       "  </thead>\n",
       "  <tbody>\n",
       "    <tr>\n",
       "      <th>0</th>\n",
       "      <td>0</td>\n",
       "      <td>a</td>\n",
       "      <td>2</td>\n",
       "      <td>f</td>\n",
       "    </tr>\n",
       "    <tr>\n",
       "      <th>1</th>\n",
       "      <td>1</td>\n",
       "      <td>b</td>\n",
       "      <td>3</td>\n",
       "      <td>g</td>\n",
       "    </tr>\n",
       "    <tr>\n",
       "      <th>2</th>\n",
       "      <td>2</td>\n",
       "      <td>c</td>\n",
       "      <td>4</td>\n",
       "      <td>h</td>\n",
       "    </tr>\n",
       "    <tr>\n",
       "      <th>3</th>\n",
       "      <td>3</td>\n",
       "      <td>d</td>\n",
       "      <td>5</td>\n",
       "      <td>i</td>\n",
       "    </tr>\n",
       "    <tr>\n",
       "      <th>4</th>\n",
       "      <td>4</td>\n",
       "      <td>e</td>\n",
       "      <td>6</td>\n",
       "      <td>j</td>\n",
       "    </tr>\n",
       "  </tbody>\n",
       "</table>\n",
       "</div>"
      ],
      "text/plain": [
       "   Key left_value  Key right_value\n",
       "0    0          a    2           f\n",
       "1    1          b    3           g\n",
       "2    2          c    4           h\n",
       "3    3          d    5           i\n",
       "4    4          e    6           j"
      ]
     },
     "execution_count": 51,
     "metadata": {},
     "output_type": "execute_result"
    }
   ],
   "source": [
    "pd.concat([left_frame,right_frame],axis=1)  "
   ]
  },
  {
   "cell_type": "markdown",
   "metadata": {},
   "source": [
    "# Grouping "
   ]
  },
  {
   "cell_type": "markdown",
   "metadata": {},
   "source": [
    "Grouping in pandas took some time for me to grasp, but it's pretty awesome once it clicks.  \n",
    "\n",
    "pandas ```groupby``` method draws largely from the **split-apply-combine strategy for data analysis**. If you're not familiar with this methodology, I highly suggest you read up on it. It does a great job of illustrating how to properly think through a data problem, which I feel is more important than any technical skill a data analyst/scientist can possess  \n",
    "\n",
    "When approaching a data analysis problem, you'll often break it apart into manageable pieces, perform some operations on each of the pieces, and then put everything back together again (this is the gist split-apply-combine strategy). pandas ```groupby``` is great for these problems (R users should check out the plyr and dplyr packages)  \n",
    "\n"
   ]
  },
  {
   "cell_type": "markdown",
   "metadata": {},
   "source": [
    "The City of Chicago is kind enough to publish all city employee salaries to its open data portal. Let's go through some basic ``groupby`` examples using this data. "
   ]
  },
  {
   "cell_type": "code",
   "execution_count": 53,
   "metadata": {
    "collapsed": false
   },
   "outputs": [
    {
     "name": "stderr",
     "output_type": "stream",
     "text": [
      "'head' is not recognized as an internal or external command,\n",
      "operable program or batch file.\n"
     ]
    }
   ],
   "source": [
    "!head -n 3 city-of-chicago-salaries.csv"
   ]
  },
  {
   "cell_type": "markdown",
   "metadata": {},
   "source": [
    "Since the data contains a dollar sign for each salary, python will treat the field as a series of strings. We can use the ```converters``` parameter to change this when reading in the file."
   ]
  },
  {
   "cell_type": "code",
   "execution_count": 54,
   "metadata": {
    "collapsed": false
   },
   "outputs": [
    {
     "data": {
      "text/html": [
       "<div>\n",
       "<table border=\"1\" class=\"dataframe\">\n",
       "  <thead>\n",
       "    <tr style=\"text-align: right;\">\n",
       "      <th></th>\n",
       "      <th>name</th>\n",
       "      <th>title</th>\n",
       "      <th>department</th>\n",
       "      <th>salary</th>\n",
       "    </tr>\n",
       "  </thead>\n",
       "  <tbody>\n",
       "    <tr>\n",
       "      <th>0</th>\n",
       "      <td>AARON,  ELVIA J</td>\n",
       "      <td>WATER RATE TAKER</td>\n",
       "      <td>WATER MGMNT</td>\n",
       "      <td>85512.0</td>\n",
       "    </tr>\n",
       "    <tr>\n",
       "      <th>1</th>\n",
       "      <td>AARON,  JEFFERY M</td>\n",
       "      <td>POLICE OFFICER</td>\n",
       "      <td>POLICE</td>\n",
       "      <td>75372.0</td>\n",
       "    </tr>\n",
       "    <tr>\n",
       "      <th>2</th>\n",
       "      <td>AARON,  KIMBERLEI R</td>\n",
       "      <td>CHIEF CONTRACT EXPEDITER</td>\n",
       "      <td>GENERAL SERVICES</td>\n",
       "      <td>80916.0</td>\n",
       "    </tr>\n",
       "    <tr>\n",
       "      <th>3</th>\n",
       "      <td>ABAD JR,  VICENTE M</td>\n",
       "      <td>CIVIL ENGINEER IV</td>\n",
       "      <td>WATER MGMNT</td>\n",
       "      <td>99648.0</td>\n",
       "    </tr>\n",
       "    <tr>\n",
       "      <th>4</th>\n",
       "      <td>ABBATACOLA,  ROBERT J</td>\n",
       "      <td>ELECTRICAL MECHANIC</td>\n",
       "      <td>AVIATION</td>\n",
       "      <td>89440.0</td>\n",
       "    </tr>\n",
       "  </tbody>\n",
       "</table>\n",
       "</div>"
      ],
      "text/plain": [
       "                    name                     title        department   salary\n",
       "0        AARON,  ELVIA J          WATER RATE TAKER       WATER MGMNT  85512.0\n",
       "1      AARON,  JEFFERY M            POLICE OFFICER            POLICE  75372.0\n",
       "2    AARON,  KIMBERLEI R  CHIEF CONTRACT EXPEDITER  GENERAL SERVICES  80916.0\n",
       "3    ABAD JR,  VICENTE M         CIVIL ENGINEER IV       WATER MGMNT  99648.0\n",
       "4  ABBATACOLA,  ROBERT J       ELECTRICAL MECHANIC          AVIATION  89440.0"
      ]
     },
     "execution_count": 54,
     "metadata": {},
     "output_type": "execute_result"
    }
   ],
   "source": [
    "headers = ['name','title','department','salary']  \n",
    "chicago =pd.read_csv('./data/city-of-chicago-salaries.csv',header=0,names=headers,\n",
    "                    converters={'salary':lambda x:float(x.replace('$',''))}) \n",
    "chicago.head() "
   ]
  },
  {
   "cell_type": "markdown",
   "metadata": {},
   "source": [
    "pandas ```groupby``` returns a DataFrameGroupBy object which has a variety of methods, many of which are similar to standard SQL aggregate functions.  "
   ]
  },
  {
   "cell_type": "code",
   "execution_count": 55,
   "metadata": {
    "collapsed": false
   },
   "outputs": [
    {
     "data": {
      "text/plain": [
       "<pandas.core.groupby.DataFrameGroupBy object at 0x0000000009953048>"
      ]
     },
     "execution_count": 55,
     "metadata": {},
     "output_type": "execute_result"
    }
   ],
   "source": [
    "by_dept = chicago.groupby('department')  \n",
    "by_dept  "
   ]
  },
  {
   "cell_type": "markdown",
   "metadata": {},
   "source": [
    "Calling ```count``` returns the total number of NOT NULL values within each column. If we were interested in the total number of records in each group, we could use ```size```  "
   ]
  },
  {
   "cell_type": "code",
   "execution_count": 56,
   "metadata": {
    "collapsed": false
   },
   "outputs": [
    {
     "name": "stdout",
     "output_type": "stream",
     "text": [
      "                   name  title  salary\n",
      "department                            \n",
      "ADMIN HEARNG         42     42      42\n",
      "ANIMAL CONTRL        61     61      61\n",
      "AVIATION           1218   1218    1218\n",
      "BOARD OF ELECTION   110    110     110\n",
      "BOARD OF ETHICS       9      9       9\n",
      "\n",
      "\n",
      "department\n",
      "PUBLIC LIBRARY     926\n",
      "STREETS & SAN     2070\n",
      "TRANSPORTN        1168\n",
      "TREASURER           25\n",
      "WATER MGMNT       1857\n",
      "dtype: int64\n"
     ]
    }
   ],
   "source": [
    "print(by_dept.count().head()) # NOT NULL records within each column  \n",
    "print('\\n')  \n",
    "print(by_dept.size().tail()) # total records for each department  \n"
   ]
  },
  {
   "cell_type": "markdown",
   "metadata": {},
   "source": [
    "Summation can be done via ```sum```, averaging by ```mean```, etc. (if it's a SQL function, chances are it exists in pandas). Oh, and there's median too, something not available in most databases.  "
   ]
  },
  {
   "cell_type": "code",
   "execution_count": 61,
   "metadata": {
    "collapsed": false
   },
   "outputs": [
    {
     "name": "stdout",
     "output_type": "stream",
     "text": [
      "department\n",
      "ADMIN HEARNG                      [ADMIN HEARNG]\n",
      "ANIMAL CONTRL                    [ANIMAL CONTRL]\n",
      "AVIATION                              [AVIATION]\n",
      "BOARD OF ELECTION            [BOARD OF ELECTION]\n",
      "BOARD OF ETHICS                [BOARD OF ETHICS]\n",
      "BUDGET & MGMT                    [BUDGET & MGMT]\n",
      "BUILDINGS                            [BUILDINGS]\n",
      "BUSINESS AFFAIRS              [BUSINESS AFFAIRS]\n",
      "CITY CLERK                          [CITY CLERK]\n",
      "CITY COUNCIL                      [CITY COUNCIL]\n",
      "COMMUNITY DEVELOPMENT    [COMMUNITY DEVELOPMENT]\n",
      "CULTURAL AFFAIRS              [CULTURAL AFFAIRS]\n",
      "DISABILITIES                      [DISABILITIES]\n",
      "DoIT                                      [DoIT]\n",
      "FAMILY & SUPPORT              [FAMILY & SUPPORT]\n",
      "FINANCE                                [FINANCE]\n",
      "FIRE                                      [FIRE]\n",
      "GENERAL SERVICES              [GENERAL SERVICES]\n",
      "HEALTH                                  [HEALTH]\n",
      "HUMAN RELATIONS                [HUMAN RELATIONS]\n",
      "HUMAN RESOURCES                [HUMAN RESOURCES]\n",
      "INSPECTOR GEN                    [INSPECTOR GEN]\n",
      "IPRA                                      [IPRA]\n",
      "LAW                                        [LAW]\n",
      "LICENSE APPL COMM            [LICENSE APPL COMM]\n",
      "MAYOR'S OFFICE                  [MAYOR'S OFFICE]\n",
      "OEMC                                      [OEMC]\n",
      "POLICE                                  [POLICE]\n",
      "POLICE BOARD                      [POLICE BOARD]\n",
      "PROCUREMENT                        [PROCUREMENT]\n",
      "PUBLIC LIBRARY                  [PUBLIC LIBRARY]\n",
      "STREETS & SAN                    [STREETS & SAN]\n",
      "TRANSPORTN                          [TRANSPORTN]\n",
      "TREASURER                            [TREASURER]\n",
      "WATER MGMNT                        [WATER MGMNT]\n",
      "Name: department, dtype: object\n",
      "\n",
      "\n"
     ]
    },
    {
     "data": {
      "text/plain": [
       "35"
      ]
     },
     "execution_count": 61,
     "metadata": {},
     "output_type": "execute_result"
    }
   ],
   "source": [
    "print(by_dept['department'].unique())\n",
    "\n",
    "print('\\n')\n",
    "\n",
    "len(by_dept['department'].unique())"
   ]
  },
  {
   "cell_type": "code",
   "execution_count": 63,
   "metadata": {
    "collapsed": false
   },
   "outputs": [
    {
     "name": "stdout",
     "output_type": "stream",
     "text": [
      "                       salary\n",
      "department                   \n",
      "HUMAN RESOURCES     4850928.0\n",
      "INSPECTOR GEN       4035150.0\n",
      "IPRA                7006128.0\n",
      "LAW                31883920.2\n",
      "LICENSE APPL COMM     65436.0\n",
      "\n",
      "\n",
      "                         salary\n",
      "department                     \n",
      "HUMAN RESOURCES    71337.176471\n",
      "INSPECTOR GEN      80703.000000\n",
      "IPRA               82425.035294\n",
      "LAW                70853.156000\n",
      "LICENSE APPL COMM  65436.000000\n",
      "\n",
      "\n",
      "                    salary\n",
      "department                \n",
      "HUMAN RESOURCES    68496.0\n",
      "INSPECTOR GEN      76116.0\n",
      "IPRA               82524.0\n",
      "LAW                66492.0\n",
      "LICENSE APPL COMM  65436.0\n"
     ]
    }
   ],
   "source": [
    "print(by_dept.sum()[20:25])  #total salaries of each department  \n",
    "print('\\n')  \n",
    "print(by_dept.mean()[20:25]) #avaerage salary of each department  \n",
    "print('\\n')  \n",
    "print(by_dept.median()[20:25]) # take that,RDBMS!   "
   ]
  },
  {
   "cell_type": "markdown",
   "metadata": {},
   "source": [
    "Operations can also be done on an individual Series within a grouped object. Say we were curious about the five departments with the most distinct titles - the pandas equivalent to:  \n",
    "\n",
    "```\n",
    "SELECT department, COUNT(DISTINCT title)\n",
    "FROM chicago\n",
    "GROUP BY department\n",
    "ORDER BY 2 DESC\n",
    "LIMIT 5;  \n",
    "```  \n",
    "\n",
    "pandas is a lot less verbose here  "
   ]
  },
  {
   "cell_type": "code",
   "execution_count": 64,
   "metadata": {
    "collapsed": false
   },
   "outputs": [
    {
     "data": {
      "text/plain": [
       "department\n",
       "WATER MGMNT    153\n",
       "TRANSPORTN     150\n",
       "POLICE         130\n",
       "AVIATION       125\n",
       "HEALTH         118\n",
       "Name: title, dtype: int64"
      ]
     },
     "execution_count": 64,
     "metadata": {},
     "output_type": "execute_result"
    }
   ],
   "source": [
    "by_dept.title.nunique().sort_values(ascending=False)[:5]  "
   ]
  },
  {
   "cell_type": "markdown",
   "metadata": {},
   "source": [
    "# split-apply-combine  \n",
    "\n"
   ]
  },
  {
   "cell_type": "markdown",
   "metadata": {},
   "source": [
    "The real power of groupby comes from it's split-apply-combine ability.  \n",
    "What if we wanted to see the highest paid employee within each department. Given our current dataset, we'd have to do something like this in SQL:  \n",
    "```\n",
    "SELECT *\n",
    "FROM chicago c\n",
    "INNER JOIN (\n",
    "    SELECT department, max(salary) max_salary\n",
    "    FROM chicago\n",
    "    GROUP BY department\n",
    ") m\n",
    "ON c.department = m.department\n",
    "AND c.salary = m.max_salary; \n",
    "```  \n",
    "\n",
    "This would give you the highest paid person in each department, but it would return multiple if there were many equally high paid people within a department.  \n",
    "\n",
    "Alternatively, you could alter the table, add a column, and then write an update statement to populate that column. However, that's not always an option.\n"
   ]
  },
  {
   "cell_type": "markdown",
   "metadata": {},
   "source": [
    "Using ```groupby``` we can define a function (which we'll call ```ranker```) that will label each record from 1 to N, where N is the number of employees within the department. We can then call ```apply``` to, well, _apply_ that function to each group (in this case, each department).  "
   ]
  },
  {
   "cell_type": "code",
   "execution_count": 66,
   "metadata": {
    "collapsed": true
   },
   "outputs": [],
   "source": [
    "def ranker(df):  \n",
    "    \"\"\"Assigns a rank to each employee based on salary , with 1 being \n",
    "    the highest paid. \n",
    "      Assumes the data is DESC sorted.\"\"\"  \n",
    "    df['dept_rank']=np.arange(len(df)) + 1  \n",
    "    return df  \n",
    "    "
   ]
  },
  {
   "cell_type": "code",
   "execution_count": 70,
   "metadata": {
    "collapsed": false
   },
   "outputs": [
    {
     "name": "stdout",
     "output_type": "stream",
     "text": [
      "                                              title    salary\n",
      "18039                      SUPERINTENDENT OF POLICE  260004.0\n",
      "8004                                          MAYOR  216210.0\n",
      "25588                             FIRE COMMISSIONER  202728.0\n",
      "763                        COMMISSIONER OF AVIATION  186576.0\n",
      "4697                         COMMISSIONER OF HEALTH  177156.0\n",
      "21971                           CORPORATION COUNSEL  173664.0\n",
      "12635                                    BUDGET DIR  169992.0\n",
      "22894                    COMMISSIONER OF WATER MGMT  169512.0\n",
      "15053                COMMISSIONER OF TRANSPORTATION  169500.0\n",
      "25778                    EXEC DIR EMERG MGMT & COMM  167796.0\n",
      "1416         COMMISSIONER OF CHICAGO PUBLIC LIBRARY  167004.0\n",
      "23878                     CHIEF PROCUREMENT OFFICER  163656.0\n",
      "8493                              INSPECTOR GENERAL  161856.0\n",
      "14365                  CHIEF ADMINISTRATIVE OFFICER  160248.0\n",
      "6914    COMMISSIONER OF FAMILY AND SUPPORT SERVICES  157092.0\n",
      "30849        COMMISSIONER OF STREETS AND SANITATION  157092.0\n",
      "18861                     COMMISSIONER OF BUILDINGS  157092.0\n",
      "15401  COMMISSIONER OF BUS AFAIRS AND CONSUMER PROT  157092.0\n",
      "23851   COMMISSIONER OF FLEET & FACILITY MANAGEMENT  157092.0\n",
      "19470        COMMISSIONER OF HOUSING & ECONOMIC DEV  156504.0\n",
      "13270                DIR OF ADMINISTRATIVE HEARINGS  156420.0\n",
      "2473   COMMISSIONER OF CULTURAL AFFAIRS/SPEC EVENTS  155040.0\n",
      "1983                      CHIEF INFORMATION OFFICER  154992.0\n",
      "4684                COMMISSIONER OF HUMAN RESOURCES  151572.0\n",
      "766                FIRST DEPUTY CHIEF ADMINISTRATOR  146940.0\n",
      "14544                              FIRST DEPUTY DIR  145008.0\n",
      "405        EXECUTIVE DIR OF ANIMAL CARE AND CONTROL  134124.0\n",
      "28162         COMM MAYORS OFF PEOPLE W DISABILITIES  134124.0\n",
      "20379                                CITY TREASURER  133545.0\n",
      "18826                                    CITY CLERK  133545.0\n",
      "1982                EXECUTIVE DIR - BOARD OF ETHICS  125532.0\n",
      "20686   CHAIRPERSON - COMMISSION ON HUMAN RELATIONS  125004.0\n",
      "1632            DEPUTY CHIEF ADMINISTRATIVE OFFICER  124320.0\n",
      "3916                   EXECUTIVE DIR - POLICE BOARD   97728.0\n",
      "11154                                    STAFF ASST   65436.0\n"
     ]
    }
   ],
   "source": [
    "chicago.sort_values('salary',ascending=False,inplace=True)  \n",
    "chicago = chicago.groupby('department').apply(ranker)  \n",
    "print(chicago[chicago.dept_rank ==1][['title','salary']])"
   ]
  },
  {
   "cell_type": "code",
   "execution_count": 71,
   "metadata": {
    "collapsed": false
   },
   "outputs": [
    {
     "data": {
      "text/html": [
       "<div>\n",
       "<table border=\"1\" class=\"dataframe\">\n",
       "  <thead>\n",
       "    <tr style=\"text-align: right;\">\n",
       "      <th></th>\n",
       "      <th>name</th>\n",
       "      <th>title</th>\n",
       "      <th>department</th>\n",
       "      <th>salary</th>\n",
       "      <th>dept_rank</th>\n",
       "    </tr>\n",
       "  </thead>\n",
       "  <tbody>\n",
       "    <tr>\n",
       "      <th>21971</th>\n",
       "      <td>PATTON,  STEPHEN R</td>\n",
       "      <td>CORPORATION COUNSEL</td>\n",
       "      <td>LAW</td>\n",
       "      <td>173664.0</td>\n",
       "      <td>1</td>\n",
       "    </tr>\n",
       "    <tr>\n",
       "      <th>6311</th>\n",
       "      <td>DARLING,  LESLIE M</td>\n",
       "      <td>FIRST ASST CORPORATION COUNSEL</td>\n",
       "      <td>LAW</td>\n",
       "      <td>149160.0</td>\n",
       "      <td>2</td>\n",
       "    </tr>\n",
       "    <tr>\n",
       "      <th>17680</th>\n",
       "      <td>MARTINICO,  JOSEPH P</td>\n",
       "      <td>CHIEF LABOR NEGOTIATOR</td>\n",
       "      <td>LAW</td>\n",
       "      <td>144036.0</td>\n",
       "      <td>3</td>\n",
       "    </tr>\n",
       "    <tr>\n",
       "      <th>22357</th>\n",
       "      <td>PETERS,  LYNDA A</td>\n",
       "      <td>CITY PROSECUTOR</td>\n",
       "      <td>LAW</td>\n",
       "      <td>139932.0</td>\n",
       "      <td>4</td>\n",
       "    </tr>\n",
       "    <tr>\n",
       "      <th>25022</th>\n",
       "      <td>RUETHER,  MARY E</td>\n",
       "      <td>DEPUTY CORPORATION COUNSEL</td>\n",
       "      <td>LAW</td>\n",
       "      <td>137076.0</td>\n",
       "      <td>5</td>\n",
       "    </tr>\n",
       "  </tbody>\n",
       "</table>\n",
       "</div>"
      ],
      "text/plain": [
       "                       name                           title department  \\\n",
       "21971    PATTON,  STEPHEN R             CORPORATION COUNSEL        LAW   \n",
       "6311     DARLING,  LESLIE M  FIRST ASST CORPORATION COUNSEL        LAW   \n",
       "17680  MARTINICO,  JOSEPH P          CHIEF LABOR NEGOTIATOR        LAW   \n",
       "22357      PETERS,  LYNDA A                 CITY PROSECUTOR        LAW   \n",
       "25022      RUETHER,  MARY E      DEPUTY CORPORATION COUNSEL        LAW   \n",
       "\n",
       "         salary  dept_rank  \n",
       "21971  173664.0          1  \n",
       "6311   149160.0          2  \n",
       "17680  144036.0          3  \n",
       "22357  139932.0          4  \n",
       "25022  137076.0          5  "
      ]
     },
     "execution_count": 71,
     "metadata": {},
     "output_type": "execute_result"
    }
   ],
   "source": [
    "chicago[chicago.department == \"LAW\"][:5] "
   ]
  },
  {
   "cell_type": "markdown",
   "metadata": {},
   "source": [
    "We can now see where each employee ranks within their department based on salary."
   ]
  },
  {
   "cell_type": "code",
   "execution_count": null,
   "metadata": {
    "collapsed": true
   },
   "outputs": [],
   "source": []
  }
 ],
 "metadata": {
  "kernelspec": {
   "display_name": "Python 2",
   "language": "python",
   "name": "python2"
  },
  "language_info": {
   "codemirror_mode": {
    "name": "ipython",
    "version": 2
   },
   "file_extension": ".py",
   "mimetype": "text/x-python",
   "name": "python",
   "nbconvert_exporter": "python",
   "pygments_lexer": "ipython2",
   "version": "2.7.11"
  }
 },
 "nbformat": 4,
 "nbformat_minor": 0
}
