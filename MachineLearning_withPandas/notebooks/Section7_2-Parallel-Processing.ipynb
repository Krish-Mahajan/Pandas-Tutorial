{
 "cells": [
  {
   "cell_type": "code",
   "execution_count": 1,
   "metadata": {
    "collapsed": false
   },
   "outputs": [
    {
     "data": {
      "text/html": [
       "<style>\n",
       "    @font-face {\n",
       "        font-family: \"Computer Modern\";\n",
       "        src: url('http://mirrors.ctan.org/fonts/cm-unicode/fonts/otf/cmunss.otf');\n",
       "    }\n",
       "    div.cell{\n",
       "        width: 90%;\n",
       "/*        margin-left:auto;*/\n",
       "/*        margin-right:auto;*/\n",
       "    }\n",
       "    ul {\n",
       "        line-height: 145%;\n",
       "        font-size: 90%;\n",
       "    }\n",
       "    li {\n",
       "        margin-bottom: 1em;\n",
       "    }\n",
       "    h1 {\n",
       "        font-family: Helvetica, serif;\n",
       "    }\n",
       "    h4{\n",
       "        margin-top: 12px;\n",
       "        margin-bottom: 3px;\n",
       "       }\n",
       "    div.text_cell_render{\n",
       "        font-family: Computer Modern, \"Helvetica Neue\", Arial, Helvetica, Geneva, sans-serif;\n",
       "        line-height: 145%;\n",
       "        font-size: 130%;\n",
       "        width: 90%;\n",
       "        margin-left:auto;\n",
       "        margin-right:auto;\n",
       "    }\n",
       "    .CodeMirror{\n",
       "            font-family: \"Source Code Pro\", source-code-pro,Consolas, monospace;\n",
       "    }\n",
       "/*    .prompt{\n",
       "        display: None;\n",
       "    }*/\n",
       "    .text_cell_render h5 {\n",
       "        font-weight: 300;\n",
       "        font-size: 16pt;\n",
       "        color: #4057A1;\n",
       "        font-style: italic;\n",
       "        margin-bottom: 0.5em;\n",
       "        margin-top: 0.5em;\n",
       "        display: block;\n",
       "    }\n",
       "\n",
       "    .warning{\n",
       "        color: rgb( 240, 20, 20 )\n",
       "        }\n",
       "</style>\n",
       "<script>\n",
       "    MathJax.Hub.Config({\n",
       "                        TeX: {\n",
       "                           extensions: [\"AMSmath.js\"]\n",
       "                           },\n",
       "                tex2jax: {\n",
       "                    inlineMath: [ ['$','$'], [\"\\\\(\",\"\\\\)\"] ],\n",
       "                    displayMath: [ ['$$','$$'], [\"\\\\[\",\"\\\\]\"] ]\n",
       "                },\n",
       "                displayAlign: 'center', // Change this to 'center' to center equations.\n",
       "                \"HTML-CSS\": {\n",
       "                    styles: {'.MathJax_Display': {\"margin\": 4}}\n",
       "                }\n",
       "        });\n",
       "</script>"
      ],
      "text/plain": [
       "<IPython.core.display.HTML object>"
      ]
     },
     "execution_count": 1,
     "metadata": {},
     "output_type": "execute_result"
    }
   ],
   "source": [
    "from IPython.core.display import HTML\n",
    "def css_styling():\n",
    "    styles = open(\"styles/custom.css\", \"r\").read()\n",
    "    \n",
    "    return HTML(styles)\n",
    "css_styling()"
   ]
  },
  {
   "cell_type": "markdown",
   "metadata": {},
   "source": [
    "# Parallel Processing in Python\n",
    "\n",
    "An obvious way to improve the performance of Python code is to make it run in parallel. Any relatively new computer will have multiple cores, which means that several processors can operate on the same data stored on memory. However, most of the code we have written in the course so far does not take advantage of more than one of them. In addition there is now widespread availability of computing clusters, such as [those offered for use by Amazon](http://aws.amazon.com/ec2/) (Vanderbilt also has [its own cluster](http://www.accre.vanderbilt.edu)). Clusters allow several computers to work together by exchanging data over a network.\n",
    "\n",
    "Parallel computing involves breaking a task into several independent sub-tasks, distributing these sub-tasks to available processors or computers, then coordinating the execution of these tasks and combining their outputs in an appropriate way.\n",
    "\n",
    "There are several different models for parallel processing, including:\n",
    "\n",
    "* **Message passing**: processes or other program components running in parallel communicate by sending and receiving messages, which allows for easy synchronization. \n",
    "* **Multi-threading**: within a single process, some architectures allow for the existence of several \"threads\", which execute independently, though they share the memory and state of the process in which they reside. Multi-threading is good for increasing *throughput* and reducing *latency*.\n",
    "* **Task farming**: a master process delegates independent calculations to available processors (task farm), and collects their outputs when complete.\n",
    "* **Single program, multiple data (SPMD)** Probably the most common type of parallel processing, in which tasks are split up and run simultaneously on multiple processors with different input in order to obtain results faster. All tasks execute their copy of the same program simultaneously.\n",
    "* **Multiple program, multiple data (MPMD)** Like SPMD, except each task may be executing a different program."
   ]
  },
  {
   "cell_type": "markdown",
   "metadata": {},
   "source": [
    "## `multiprocessing`\n",
    "\n",
    "The simplest way (though probably not the best) for performing parallel computing in Python is via the built-in process-based library for concurrent computing, called `multiprocessing`. "
   ]
  },
  {
   "cell_type": "code",
   "execution_count": 2,
   "metadata": {
    "collapsed": false
   },
   "outputs": [],
   "source": [
    "import multiprocessing\n",
    "import os\n",
    "import numpy as np"
   ]
  },
  {
   "cell_type": "markdown",
   "metadata": {},
   "source": [
    "The `multiprocessing` module parallelizes by launching multiple *processes*, each with a seperate interpretor. You may have already heard about *threads*. Processes and threads are not the same:\n",
    "\n",
    "* processes are independent of one another, each having their own state, memory and address spaces\n",
    "* threads share resources, and are therefore interdependent; they are subunits of the same process\n",
    "\n",
    "Since processes are independent, they now have independent Global Interpreter Locks (GILs),  its best to run multiprocessing on multiple CPUs. You can check how many you have on your machine:"
   ]
  },
  {
   "cell_type": "code",
   "execution_count": 3,
   "metadata": {
    "collapsed": false
   },
   "outputs": [
    {
     "data": {
      "text/plain": [
       "4"
      ]
     },
     "execution_count": 3,
     "metadata": {},
     "output_type": "execute_result"
    }
   ],
   "source": [
    "multiprocessing.cpu_count()"
   ]
  },
  {
   "cell_type": "markdown",
   "metadata": {},
   "source": [
    "### `Process` class\n",
    "\n",
    "The `Process` class encapsulates a task running in a process. It will usually have a `target` argument that is some callable (function/method) that is executed when the process runs, along with optional arguments that can be passed to the target.\n",
    "\n",
    "A `Process` has several methods, with some useful ones being:\n",
    "\n",
    "* `is_alive`: Returns `True` if the process is running.\n",
    "* `join`: Waits for the process to finish its work and terminate. An optional `timeout` argument can be passed.\n",
    "* `run`: When the process starts, this method is called to invoke the `target`.\n",
    "* `terminate`: Kills the process forcibly, without any cleanup.\n",
    "\n",
    "A `Process` also has several other non-callable attributes, such as `pid`, `name` and `authkey`.\n",
    "\n",
    "Here is a trivial example of using the `Process` class, showing that each has its own process ID."
   ]
  },
  {
   "cell_type": "code",
   "execution_count": 4,
   "metadata": {
    "collapsed": false
   },
   "outputs": [],
   "source": [
    "import os\n",
    "\n",
    "def job(n):\n",
    "    print('I am working on job {0} running on PID {1}'.format(n, os.getpid()))\n",
    "\n",
    "jobs = []\n",
    "for i in range(5):\n",
    "    p = multiprocessing.Process(target=job, args=(i,))\n",
    "    jobs.append(p)\n",
    "    p.start()"
   ]
  },
  {
   "cell_type": "code",
   "execution_count": 5,
   "metadata": {
    "collapsed": false
   },
   "outputs": [
    {
     "name": "stdout",
     "output_type": "stream",
     "text": [
      "I am working on job 0 running on PID 97916\n",
      "I am working on job 2 running on PID 97918\n",
      "I am working on job 3 running on PID 97919\n",
      "I am working on job 4 running on PID 97920\n",
      "I am working on job 1 running on PID 97917\n"
     ]
    },
    {
     "data": {
      "text/plain": [
       "[<Process(Process-1, stopped)>,\n",
       " <Process(Process-2, stopped)>,\n",
       " <Process(Process-3, stopped)>,\n",
       " <Process(Process-4, stopped)>,\n",
       " <Process(Process-5, stopped)>]"
      ]
     },
     "execution_count": 5,
     "metadata": {},
     "output_type": "execute_result"
    }
   ],
   "source": [
    "jobs"
   ]
  },
  {
   "cell_type": "markdown",
   "metadata": {},
   "source": [
    "We can easily subclass `Process` to our liking:"
   ]
  },
  {
   "cell_type": "code",
   "execution_count": 6,
   "metadata": {
    "collapsed": false
   },
   "outputs": [],
   "source": [
    "class FibProcess(multiprocessing.Process):\n",
    "    \n",
    "    def __init__(self, n):\n",
    "        self.n = n\n",
    "        multiprocessing.Process.__init__(self)\n",
    "        \n",
    "    def run(self):\n",
    "        a, b = 0, 1\n",
    "        for i in range(self.n):\n",
    "            a, b = b, a + b"
   ]
  },
  {
   "cell_type": "code",
   "execution_count": 7,
   "metadata": {
    "collapsed": false
   },
   "outputs": [
    {
     "name": "stdout",
     "output_type": "stream",
     "text": [
      "97927\n",
      "0\n"
     ]
    }
   ],
   "source": [
    "p = FibProcess(10000)\n",
    "p.start()\n",
    "print(p.pid)\n",
    "p.join()\n",
    "print(p.exitcode)"
   ]
  },
  {
   "cell_type": "markdown",
   "metadata": {},
   "source": [
    "### `Queue` class\n",
    "\n",
    "Of course, despite being independent, we would like our processes to communicate with one another, for example, to share data. One way to facilitate this in `multiprocessing` is via the `Queue` class, a thread/process safe, first-in-first-out (FIFO) data structure that can store any serializable Python object.\n",
    "\n",
    "A `Queue`'s important methods include:\n",
    "\n",
    "* `put`: Adds item to `Queue`.\n",
    "* `get`: Fetches next item from `Queue`.\n",
    "* `close`: Closes the `Queue`, preventing the addition of more data.\n",
    "* `empty`: Returns True if the `Queue` is empty.\n",
    "* `full`: Returns True if full.\n",
    "* `qsize`: Retuns approximate current number of items in `Queue`.\n",
    "\n",
    "A subclass of `Queue` is the `JoinableQueue`, which has additional methods, notably `join`, which waits until all the items have been processed, blocking the addition of new items.\n"
   ]
  },
  {
   "cell_type": "code",
   "execution_count": 8,
   "metadata": {
    "collapsed": false
   },
   "outputs": [
    {
     "name": "stdout",
     "output_type": "stream",
     "text": [
      "-1\n",
      "foobar\n"
     ]
    }
   ],
   "source": [
    "from multiprocessing import Queue\n",
    "\n",
    "q = Queue()\n",
    "\n",
    "q.put(-1)\n",
    "q.put('foobar')\n",
    "q.put(5)\n",
    "\n",
    "print(q.get())\n",
    "print(q.get())"
   ]
  },
  {
   "cell_type": "markdown",
   "metadata": {},
   "source": [
    "Here's a toy example of `Queue` usage, where a process is fed items from a function, until it receives a `None` object.\n",
    "\n",
    "First, a function to execute a task with items from a `Queue`:"
   ]
  },
  {
   "cell_type": "code",
   "execution_count": 9,
   "metadata": {
    "collapsed": false
   },
   "outputs": [],
   "source": [
    "def consumer(q):\n",
    "    while True:\n",
    "        thing = q.get()\n",
    "        if thing is None:\n",
    "            break\n",
    "        print('Consuming {}'.format(thing))\n",
    "    print(\"\\nFinished consuming\")"
   ]
  },
  {
   "cell_type": "markdown",
   "metadata": {},
   "source": [
    "Complementing this is another function that provisions the `Queue` with items:"
   ]
  },
  {
   "cell_type": "code",
   "execution_count": 10,
   "metadata": {
    "collapsed": false
   },
   "outputs": [],
   "source": [
    "def producer(sequence, q):\n",
    "    for thing in sequence:\n",
    "        q.put(thing)"
   ]
  },
  {
   "cell_type": "markdown",
   "metadata": {},
   "source": [
    "Initialize the `Queue` and start the `consumer` process:"
   ]
  },
  {
   "cell_type": "code",
   "execution_count": 11,
   "metadata": {
    "collapsed": false
   },
   "outputs": [],
   "source": [
    "queue = multiprocessing.Queue()\n",
    "\n",
    "consumer_process = multiprocessing.Process(target=consumer, args=[queue])\n",
    "consumer_process.start()"
   ]
  },
  {
   "cell_type": "markdown",
   "metadata": {},
   "source": [
    "Feed the `Queue` and process until finished:"
   ]
  },
  {
   "cell_type": "code",
   "execution_count": 12,
   "metadata": {
    "collapsed": false
   },
   "outputs": [],
   "source": [
    "stuff = [42, 'foobar', True, range(5)]\n",
    "producer(stuff, queue)"
   ]
  },
  {
   "cell_type": "code",
   "execution_count": 13,
   "metadata": {
    "collapsed": false
   },
   "outputs": [
    {
     "name": "stdout",
     "output_type": "stream",
     "text": [
      "Consuming 42\n",
      "Consuming foobar\n",
      "Consuming True\n",
      "Consuming range(0, 5)\n",
      "\n",
      "Finished consuming\n"
     ]
    }
   ],
   "source": [
    "queue.put(None)\n",
    "consumer_process.join()"
   ]
  },
  {
   "cell_type": "markdown",
   "metadata": {},
   "source": [
    "Two things to be aware of:\n",
    "\n",
    "1. if you `terminate` a process that is still accessing a queue, the queue may become corrupted\n",
    "2. you should make sure that any queue to which a given process has given data is clear before joining the process, or you will get a deadlock condition\n",
    "\n",
    "### `Pool` class\n",
    "\n",
    "We often have a task that we want to split up among several worker processes in parallel. The `Pool` class creates a number of processes and the methods for passing work to them. A `Pool` has the following key methods:\n",
    "\n",
    "* `apply`: Executes a passed function in a process and returns the result.\n",
    "* `apply_async`: Same as apply, but the result is returned asynchronously via a *callback*\n",
    "* `map`: A parallel version of `apply`, which splits an iterable of data into chunks and farms chunks out to processes.\n",
    "* `map_async`: Asynchronous `map`."
   ]
  },
  {
   "cell_type": "markdown",
   "metadata": {},
   "source": [
    "### Example: parallel bootstrap\n",
    "\n",
    "As an example, we will choose a statistical computing task that is [*embarassingly parallel*](http://en.wikipedia.org/wiki/Embarrassingly_parallel). This function generates statistics of bootstrapped samples from a dataset."
   ]
  },
  {
   "cell_type": "code",
   "execution_count": 14,
   "metadata": {
    "collapsed": false
   },
   "outputs": [],
   "source": [
    "def bootstrap(data, nsamples, f):\n",
    "    boot_samples = data[np.random.randint(len(data), size=(nsamples, len(data)))]\n",
    "    return [f(s) for s in boot_samples]"
   ]
  },
  {
   "cell_type": "code",
   "execution_count": 15,
   "metadata": {
    "collapsed": false
   },
   "outputs": [],
   "source": [
    "pool = multiprocessing.Pool(processes=4)"
   ]
  },
  {
   "cell_type": "code",
   "execution_count": 16,
   "metadata": {
    "collapsed": false
   },
   "outputs": [],
   "source": [
    "some_data = np.random.poisson(4, 25)"
   ]
  },
  {
   "cell_type": "code",
   "execution_count": 17,
   "metadata": {
    "collapsed": false
   },
   "outputs": [],
   "source": [
    "result = pool.apply_async(bootstrap, (some_data, 1000, np.mean))"
   ]
  },
  {
   "cell_type": "markdown",
   "metadata": {},
   "source": [
    "The result is an `ApplyResult` object:"
   ]
  },
  {
   "cell_type": "code",
   "execution_count": 18,
   "metadata": {
    "collapsed": false
   },
   "outputs": [
    {
     "data": {
      "text/plain": [
       "<multiprocessing.pool.ApplyResult at 0x104af12b0>"
      ]
     },
     "execution_count": 18,
     "metadata": {},
     "output_type": "execute_result"
    }
   ],
   "source": [
    "result"
   ]
  },
  {
   "cell_type": "markdown",
   "metadata": {},
   "source": [
    "We may then want to take the result and calculate a confidence interval based on the quantiles."
   ]
  },
  {
   "cell_type": "code",
   "execution_count": 19,
   "metadata": {
    "collapsed": false
   },
   "outputs": [],
   "source": [
    "def bootstrap_ci(boot, alpha=0.05): \n",
    "    \n",
    "    lower_index = int(np.floor((0.5*alpha)*len(boot)))\n",
    "    upper_index = int(np.floor((1.-0.5*alpha)*len(boot)))\n",
    "    return boot[lower_index], boot[upper_index]"
   ]
  },
  {
   "cell_type": "code",
   "execution_count": 20,
   "metadata": {
    "collapsed": false
   },
   "outputs": [
    {
     "data": {
      "text/plain": [
       "(3.0, 5.0800000000000001)"
      ]
     },
     "execution_count": 20,
     "metadata": {},
     "output_type": "execute_result"
    }
   ],
   "source": [
    "bootstrap_ci(np.sort(result.get()))"
   ]
  },
  {
   "cell_type": "code",
   "execution_count": 21,
   "metadata": {
    "collapsed": false
   },
   "outputs": [],
   "source": [
    "# Clean up\n",
    "pool.close()\n",
    "pool.join()"
   ]
  },
  {
   "cell_type": "markdown",
   "metadata": {},
   "source": [
    "But, since we used `Pool.apply`, this is not a parallel task. We need to use `map`."
   ]
  },
  {
   "cell_type": "code",
   "execution_count": 22,
   "metadata": {
    "collapsed": false
   },
   "outputs": [],
   "source": [
    "def mapped_bootstrap(n): \n",
    "    return bootstrap(some_data, n, np.mean)"
   ]
  },
  {
   "cell_type": "code",
   "execution_count": 23,
   "metadata": {
    "collapsed": false
   },
   "outputs": [],
   "source": [
    "pool = multiprocessing.Pool(processes=4)"
   ]
  },
  {
   "cell_type": "code",
   "execution_count": 24,
   "metadata": {
    "collapsed": false
   },
   "outputs": [],
   "source": [
    "map_result = pool.map_async(mapped_bootstrap, [250]*4)"
   ]
  },
  {
   "cell_type": "code",
   "execution_count": 25,
   "metadata": {
    "collapsed": false
   },
   "outputs": [
    {
     "data": {
      "text/plain": [
       "<multiprocessing.pool.MapResult at 0x104b10048>"
      ]
     },
     "execution_count": 25,
     "metadata": {},
     "output_type": "execute_result"
    }
   ],
   "source": [
    "map_result"
   ]
  },
  {
   "cell_type": "code",
   "execution_count": 26,
   "metadata": {
    "collapsed": false
   },
   "outputs": [
    {
     "data": {
      "text/plain": [
       "[250, 250, 250, 250]"
      ]
     },
     "execution_count": 26,
     "metadata": {},
     "output_type": "execute_result"
    }
   ],
   "source": [
    "parallel_results = map_result.get()\n",
    "[len(p) for p in parallel_results]"
   ]
  },
  {
   "cell_type": "code",
   "execution_count": 27,
   "metadata": {
    "collapsed": false
   },
   "outputs": [
    {
     "data": {
      "text/plain": [
       "(3.04, 5.1200000000000001)"
      ]
     },
     "execution_count": 27,
     "metadata": {},
     "output_type": "execute_result"
    }
   ],
   "source": [
    "bootstrap_ci(np.sort(np.ravel(parallel_results)))"
   ]
  },
  {
   "cell_type": "code",
   "execution_count": 28,
   "metadata": {
    "collapsed": false
   },
   "outputs": [],
   "source": [
    "pool.close()\n",
    "pool.join()"
   ]
  },
  {
   "cell_type": "markdown",
   "metadata": {},
   "source": [
    "The multiprocessing package is very useful for highly parallel tasks that do not need to communicate with each other, other than when sending the initial data to the pool of processes and when and collecting the results. "
   ]
  },
  {
   "cell_type": "markdown",
   "metadata": {},
   "source": [
    "## Jupyter parallel\n",
    "\n",
    "The IPython architecture consists of four components, which reside in the `ipyparallel` package:\n",
    "\n",
    "1. **Engine** The IPython engine is a Python instance that accepts Python commands over a network connection.  When multiple engines are started, parallel and distributed computing becomes possible. An important property of an IPython engine is that it blocks while user code is being executed. \n",
    "\n",
    "2. **Hub** The hub keeps track of engine connections, schedulers, clients, as well as persist all task requests and results in a database for later use.\n",
    "\n",
    "3. **Schedulers** All actions that can be performed on the engine go through a Scheduler. While the engines themselves block when user code is run, the schedulers hide that from the user to provide a fully asynchronous interface to a set of engines.\n",
    "\n",
    "4. **Client** The primary object for connecting to a cluster.\n",
    "\n",
    "![IPython architecture](images/ipython_architecture.png)\n",
    "(courtesy Min Ragan-Kelley)\n",
    "\n",
    "This architecture is implemented using the ØMQ messaging library and the associated Python bindings in `pyzmq`.\n",
    "\n",
    "## Start your engines!\n",
    "\n",
    "In order to use IPython for parallel computing, you will need to start the IPython\n",
    "controller and two or more IPython engines. The simplest way of doing this is\n",
    "with the [clusters tab](/#tab2), or you can use the `ipcluster` command in a terminal:\n",
    "\n",
    "    $ ipcluster start --n=4\n",
    "\n",
    "This command will start 4 IPython engines on the current host, which is appropriate for many desktop multicore systems. You can also setup IPython clusters that span many nodes in a computing cluster, but this is beyond the scope of this lecture, but you can get more information from \n",
    "[the IPython.parallel docs](http://ipython.org/ipython-doc/dev/parallel/parallel_process.html)..\n",
    "\n",
    "To use the IPython cluster in our Python programs or notebooks, we start by creating an instance of `ipyparallel.Client`:"
   ]
  },
  {
   "cell_type": "code",
   "execution_count": 29,
   "metadata": {
    "collapsed": false
   },
   "outputs": [],
   "source": [
    "from ipyparallel import Client"
   ]
  },
  {
   "cell_type": "code",
   "execution_count": 30,
   "metadata": {
    "collapsed": false
   },
   "outputs": [
    {
     "name": "stderr",
     "output_type": "stream",
     "text": [
      "/Users/fonnescj/anaconda3/lib/python3.5/site-packages/ipyparallel/client/client.py:417: RuntimeWarning: \n",
      "            Controller appears to be listening on localhost, but not on this machine.\n",
      "            If this is true, you should specify Client(...,sshserver='you@10.66.145.130')\n",
      "            or instruct your controller to listen on an external IP.\n",
      "  RuntimeWarning)\n"
     ]
    }
   ],
   "source": [
    "cli = Client()"
   ]
  },
  {
   "cell_type": "markdown",
   "metadata": {},
   "source": [
    "This creates a client using the default profile; you can pass an optional `profile=\"my_profile\"` argument if you have a different one running.\n",
    "\n",
    "Using the `ids` attribute we can retreive a list of ids for the IPython engines in the cluster:"
   ]
  },
  {
   "cell_type": "code",
   "execution_count": 31,
   "metadata": {
    "collapsed": false
   },
   "outputs": [
    {
     "data": {
      "text/plain": [
       "[0, 1, 2, 3]"
      ]
     },
     "execution_count": 31,
     "metadata": {},
     "output_type": "execute_result"
    }
   ],
   "source": [
    "cli.ids"
   ]
  },
  {
   "cell_type": "markdown",
   "metadata": {},
   "source": [
    "We can use a `DirectView` object for execution of tasks, which an be accessed simply by indexing the client:"
   ]
  },
  {
   "cell_type": "code",
   "execution_count": 32,
   "metadata": {
    "collapsed": false
   },
   "outputs": [
    {
     "data": {
      "text/plain": [
       "<DirectView 0>"
      ]
     },
     "execution_count": 32,
     "metadata": {},
     "output_type": "execute_result"
    }
   ],
   "source": [
    "dv0 = cli[0]\n",
    "dv0"
   ]
  },
  {
   "cell_type": "markdown",
   "metadata": {},
   "source": [
    "The above shows just a single engine, but we want all of them:"
   ]
  },
  {
   "cell_type": "code",
   "execution_count": 33,
   "metadata": {
    "collapsed": false
   },
   "outputs": [
    {
     "data": {
      "text/plain": [
       "<DirectView [0, 1, 2, 3]>"
      ]
     },
     "execution_count": 33,
     "metadata": {},
     "output_type": "execute_result"
    }
   ],
   "source": [
    "dview = cli[:]\n",
    "dview"
   ]
  },
  {
   "cell_type": "markdown",
   "metadata": {},
   "source": [
    "We can get a view on whatever combination of engines we want:"
   ]
  },
  {
   "cell_type": "code",
   "execution_count": 34,
   "metadata": {
    "collapsed": false
   },
   "outputs": [
    {
     "data": {
      "text/plain": [
       "<DirectView [0, 2]>"
      ]
     },
     "execution_count": 34,
     "metadata": {},
     "output_type": "execute_result"
    }
   ],
   "source": [
    "cli[::2]"
   ]
  },
  {
   "cell_type": "code",
   "execution_count": 35,
   "metadata": {
    "collapsed": false
   },
   "outputs": [
    {
     "data": {
      "text/plain": [
       "<DirectView [1, 3]>"
      ]
     },
     "execution_count": 35,
     "metadata": {},
     "output_type": "execute_result"
    }
   ],
   "source": [
    "cli[1::2]"
   ]
  },
  {
   "cell_type": "markdown",
   "metadata": {},
   "source": [
    "The `block` flag specifies whether to wait for the result, or return an `AsyncResult` object immediately:"
   ]
  },
  {
   "cell_type": "code",
   "execution_count": 36,
   "metadata": {
    "collapsed": false
   },
   "outputs": [],
   "source": [
    "dview.block = True"
   ]
  },
  {
   "cell_type": "markdown",
   "metadata": {},
   "source": [
    "Finally, since we want to use IPython's parallel magic commands, we set the `DirectView` to be `active`:"
   ]
  },
  {
   "cell_type": "code",
   "execution_count": 37,
   "metadata": {
    "collapsed": false
   },
   "outputs": [],
   "source": [
    "dview.activate()"
   ]
  },
  {
   "cell_type": "markdown",
   "metadata": {},
   "source": [
    "Each of these engines are ready to execute tasks. We can selectively run code on individual engines. For example, we can simply use `os.getpid` to return the process ID that the engine is running on. Here is the notebook process:"
   ]
  },
  {
   "cell_type": "code",
   "execution_count": 38,
   "metadata": {
    "collapsed": false
   },
   "outputs": [
    {
     "data": {
      "text/plain": [
       "97535"
      ]
     },
     "execution_count": 38,
     "metadata": {},
     "output_type": "execute_result"
    }
   ],
   "source": [
    "import os\n",
    "os.getpid()"
   ]
  },
  {
   "cell_type": "markdown",
   "metadata": {},
   "source": [
    "Here is a single engine's process ID:"
   ]
  },
  {
   "cell_type": "code",
   "execution_count": 39,
   "metadata": {
    "collapsed": false
   },
   "outputs": [
    {
     "data": {
      "text/plain": [
       "95635"
      ]
     },
     "execution_count": 39,
     "metadata": {},
     "output_type": "execute_result"
    }
   ],
   "source": [
    "dv0.apply_sync(os.getpid)"
   ]
  },
  {
   "cell_type": "markdown",
   "metadata": {},
   "source": [
    "And here are all the engines, run simultaneously:"
   ]
  },
  {
   "cell_type": "code",
   "execution_count": 40,
   "metadata": {
    "collapsed": false
   },
   "outputs": [
    {
     "data": {
      "text/plain": [
       "[95635, 95636, 95639, 95640]"
      ]
     },
     "execution_count": 40,
     "metadata": {},
     "output_type": "execute_result"
    }
   ],
   "source": [
    "dview.apply_sync(os.getpid)"
   ]
  },
  {
   "cell_type": "markdown",
   "metadata": {},
   "source": [
    "Let's now consider a useful function that we might want to run in parallel. Here is a version of the approximate Bayesian computing (ABC) algorithm that we have seen in previous lectures."
   ]
  },
  {
   "cell_type": "code",
   "execution_count": 41,
   "metadata": {
    "collapsed": false
   },
   "outputs": [],
   "source": [
    "import numpy\n",
    "\n",
    "def abc(y, N, epsilon=[0.2, 0.8]):\n",
    "    \n",
    "    trace = []\n",
    "\n",
    "    while len(trace) < N:\n",
    "\n",
    "        # Simulate from priors\n",
    "        mu = numpy.random.normal(0, 10)\n",
    "        sigma = numpy.random.uniform(0, 20)\n",
    "\n",
    "        x = numpy.random.normal(mu, sigma, 50)\n",
    "\n",
    "        #if (np.linalg.norm(y - x) < epsilon):\n",
    "        if ((abs(x.mean() - y.mean()) < epsilon[0]) &\n",
    "            (abs(x.std() - y.std()) < epsilon[1])):\n",
    "            trace.append([mu, sigma])\n",
    "\n",
    "    return trace"
   ]
  },
  {
   "cell_type": "code",
   "execution_count": 42,
   "metadata": {
    "collapsed": false
   },
   "outputs": [],
   "source": [
    "import numpy as np\n",
    "\n",
    "y = np.random.normal(4, 2, 50)"
   ]
  },
  {
   "cell_type": "markdown",
   "metadata": {},
   "source": [
    "Let's try running this on one of the cluster engines:"
   ]
  },
  {
   "cell_type": "code",
   "execution_count": 43,
   "metadata": {
    "collapsed": false
   },
   "outputs": [
    {
     "data": {
      "text/plain": [
       "[[3.920046016177828, 2.247814302099711],\n",
       " [3.5788663975874337, 2.6127031626478803],\n",
       " [3.7987856494612764, 3.0029207725164664],\n",
       " [3.1983390526399407, 2.493399431871308],\n",
       " [3.5504502888157363, 2.4190929428114405],\n",
       " [3.897401514133358, 2.2585768677099627],\n",
       " [3.6371496543783715, 1.6490610949008455],\n",
       " [3.148898296342826, 1.9966988843923095],\n",
       " [2.9805490734297924, 2.473301514531374],\n",
       " [3.0827558487488944, 2.291188498352874]]"
      ]
     },
     "execution_count": 43,
     "metadata": {},
     "output_type": "execute_result"
    }
   ],
   "source": [
    "dv0.block = True\n",
    "dv0.apply(abc, y, 10)"
   ]
  },
  {
   "cell_type": "markdown",
   "metadata": {},
   "source": [
    "This fails with a `NameError` because NumPy has not been imported on the engine to which we sent the task. Each engine has its own namespace, so we need to import whatever modules we will need  prior to running our code:"
   ]
  },
  {
   "cell_type": "code",
   "execution_count": 44,
   "metadata": {
    "collapsed": false
   },
   "outputs": [
    {
     "data": {
      "text/plain": [
       "<AsyncResult: execute>"
      ]
     },
     "execution_count": 44,
     "metadata": {},
     "output_type": "execute_result"
    }
   ],
   "source": [
    "cli[0].execute(\"import numpy\")"
   ]
  },
  {
   "cell_type": "code",
   "execution_count": 45,
   "metadata": {
    "collapsed": false
   },
   "outputs": [
    {
     "data": {
      "text/plain": [
       "[[3.760837608290906, 1.7576062771627066],\n",
       " [3.4918202463775163, 2.307047496053669],\n",
       " [2.9082573087145174, 2.502868032296499],\n",
       " [4.1214259809216784, 2.164799007709266],\n",
       " [3.182484700383978, 3.302924324615497],\n",
       " [3.5476012837588677, 1.5323038706229886],\n",
       " [3.8077763743940567, 2.3664298354588365],\n",
       " [3.3863480740234495, 1.470454620259427],\n",
       " [3.09313647573999, 1.8148221996899405],\n",
       " [3.007506207176772, 2.5511028210070874]]"
      ]
     },
     "execution_count": 45,
     "metadata": {},
     "output_type": "execute_result"
    }
   ],
   "source": [
    "dv0.apply(abc, y, 10)"
   ]
  },
  {
   "cell_type": "markdown",
   "metadata": {},
   "source": [
    "A more efficient way is to simultaneously import modules into the local and the engine namespaces simultaneously, using a context manager:"
   ]
  },
  {
   "cell_type": "code",
   "execution_count": 46,
   "metadata": {
    "collapsed": false
   },
   "outputs": [
    {
     "name": "stdout",
     "output_type": "stream",
     "text": [
      "importing numpy on engine(s)\n"
     ]
    }
   ],
   "source": [
    "with dview.sync_imports():\n",
    "    import numpy"
   ]
  },
  {
   "cell_type": "code",
   "execution_count": 47,
   "metadata": {
    "collapsed": false
   },
   "outputs": [],
   "source": [
    "t = dview.apply(abc, y, 10)"
   ]
  },
  {
   "cell_type": "markdown",
   "metadata": {},
   "source": [
    "Easier yet, you can use the parallel cell magic to import everywhere:"
   ]
  },
  {
   "cell_type": "code",
   "execution_count": 48,
   "metadata": {
    "collapsed": false
   },
   "outputs": [],
   "source": [
    "%%px\n",
    "import numpy"
   ]
  },
  {
   "cell_type": "markdown",
   "metadata": {},
   "source": [
    "You can also use the `require` decorator for functions that you wish to use on engines."
   ]
  },
  {
   "cell_type": "code",
   "execution_count": 49,
   "metadata": {
    "collapsed": false
   },
   "outputs": [],
   "source": [
    "from ipyparallel import require\n",
    "\n",
    "@require(\"numpy\")\n",
    "def abc(y, N, epsilon=[0.2, 0.8]):\n",
    "\n",
    "    trace = []\n",
    "\n",
    "    while len(trace) < N:\n",
    "\n",
    "        # Simulate from priors\n",
    "        mu = numpy.random.normal(0, 10)\n",
    "        sigma = numpy.random.uniform(0, 20)\n",
    "\n",
    "        x = numpy.random.normal(mu, sigma, 50)\n",
    "\n",
    "        #if (np.linalg.norm(y - x) < epsilon):\n",
    "        if ((abs(x.mean() - y.mean()) < epsilon[0]) &\n",
    "            (abs(x.std() - y.std()) < epsilon[1])):\n",
    "            trace.append([mu, sigma])\n",
    "\n",
    "    return trace"
   ]
  },
  {
   "cell_type": "markdown",
   "metadata": {},
   "source": [
    "A simple way to run code on an engine is via the `execute` method:"
   ]
  },
  {
   "cell_type": "code",
   "execution_count": 50,
   "metadata": {
    "collapsed": false
   },
   "outputs": [
    {
     "data": {
      "text/plain": [
       "<AsyncResult: finished>"
      ]
     },
     "execution_count": 50,
     "metadata": {},
     "output_type": "execute_result"
    }
   ],
   "source": [
    "dv0.execute('x=3')"
   ]
  },
  {
   "cell_type": "code",
   "execution_count": 51,
   "metadata": {
    "collapsed": false
   },
   "outputs": [
    {
     "data": {
      "text/plain": [
       "3"
      ]
     },
     "execution_count": 51,
     "metadata": {},
     "output_type": "execute_result"
    }
   ],
   "source": [
    "dv0['x']"
   ]
  },
  {
   "cell_type": "markdown",
   "metadata": {},
   "source": [
    "### Data transfer\n",
    "\n",
    "We will often want to send data to our engines, or retrieve objects from them. `DirectView` has `push` and `pull` methods for achieving this.\n",
    "\n",
    "Recall that Python namespaces are just dictionaries. So, we can update an engine's namespace by pushing a dictionary:"
   ]
  },
  {
   "cell_type": "code",
   "execution_count": 52,
   "metadata": {
    "collapsed": false
   },
   "outputs": [],
   "source": [
    "dv0.push({'foo': -3, 'bar': np.arange(10)})"
   ]
  },
  {
   "cell_type": "code",
   "execution_count": 53,
   "metadata": {
    "collapsed": false
   },
   "outputs": [
    {
     "data": {
      "text/plain": [
       "[3, array([0, 1, 2, 3, 4, 5, 6, 7, 8, 9])]"
      ]
     },
     "execution_count": 53,
     "metadata": {},
     "output_type": "execute_result"
    }
   ],
   "source": [
    "dv0.pull(('x', 'bar'))"
   ]
  },
  {
   "cell_type": "markdown",
   "metadata": {},
   "source": [
    "Additionally, `DirectView` objects also have `scatter` and `gather` methods, to distribute data among engines. `scatter` accepts any container or Numpy `array` type, while `gather` assembles the respective return objects in the Client."
   ]
  },
  {
   "cell_type": "code",
   "execution_count": 54,
   "metadata": {
    "collapsed": false
   },
   "outputs": [
    {
     "data": {
      "text/plain": [
       "array([ 5.18366066,  2.15635868,  4.67152353,  5.75654091,  1.89484337,\n",
       "        4.20951736,  1.61202854,  2.31158086,  1.87074294,  6.75226629,\n",
       "        2.06887102,  3.48066269,  2.00626511,  3.46963095,  2.60603205,\n",
       "        4.11820848,  3.93542356,  4.57489852,  1.08544122,  3.7710445 ,\n",
       "        5.91799247,  6.30156025,  8.96851745,  4.47835241,  5.09059411,\n",
       "        3.89018951, -0.11500649,  1.01270767,  2.81614913,  3.41147375,\n",
       "        5.93113873,  2.27262937,  6.19977941, -0.87496202,  2.36167877,\n",
       "        3.69502857,  2.07453   ,  2.89281033,  1.92311162,  5.62507381,\n",
       "        2.79454578,  4.07052067,  5.26818468,  8.66134407,  0.23453426,\n",
       "        4.90616147,  5.12519721, -0.56473042,  1.79147829,  2.78703557])"
      ]
     },
     "execution_count": 54,
     "metadata": {},
     "output_type": "execute_result"
    }
   ],
   "source": [
    "# Some Gaussian data\n",
    "y"
   ]
  },
  {
   "cell_type": "code",
   "execution_count": 55,
   "metadata": {
    "collapsed": true
   },
   "outputs": [],
   "source": [
    "dview = cli[:2]"
   ]
  },
  {
   "cell_type": "code",
   "execution_count": 56,
   "metadata": {
    "collapsed": false
   },
   "outputs": [
    {
     "data": {
      "text/plain": [
       "[array([ 5.18366066,  2.15635868,  4.67152353,  5.75654091,  1.89484337,\n",
       "         4.20951736,  1.61202854,  2.31158086,  1.87074294,  6.75226629,\n",
       "         2.06887102,  3.48066269,  2.00626511,  3.46963095,  2.60603205,\n",
       "         4.11820848,  3.93542356,  4.57489852,  1.08544122,  3.7710445 ,\n",
       "         5.91799247,  6.30156025,  8.96851745,  4.47835241,  5.09059411]),\n",
       " array([ 3.89018951, -0.11500649,  1.01270767,  2.81614913,  3.41147375,\n",
       "         5.93113873,  2.27262937,  6.19977941, -0.87496202,  2.36167877,\n",
       "         3.69502857,  2.07453   ,  2.89281033,  1.92311162,  5.62507381,\n",
       "         2.79454578,  4.07052067,  5.26818468,  8.66134407,  0.23453426,\n",
       "         4.90616147,  5.12519721, -0.56473042,  1.79147829,  2.78703557])]"
      ]
     },
     "execution_count": 56,
     "metadata": {},
     "output_type": "execute_result"
    }
   ],
   "source": [
    "# Send to engines\n",
    "dview.scatter('y', y)\n",
    "dview['y']"
   ]
  },
  {
   "cell_type": "code",
   "execution_count": 57,
   "metadata": {
    "collapsed": false
   },
   "outputs": [
    {
     "data": {
      "text/plain": [
       "<AsyncResult: finished>"
      ]
     },
     "execution_count": 57,
     "metadata": {},
     "output_type": "execute_result"
    }
   ],
   "source": [
    "# Remote execution of function\n",
    "dview.execute('sum_y = sum(y)')"
   ]
  },
  {
   "cell_type": "code",
   "execution_count": 58,
   "metadata": {
    "collapsed": false
   },
   "outputs": [
    {
     "data": {
      "text/plain": [
       "176.48316169426289"
      ]
     },
     "execution_count": 58,
     "metadata": {},
     "output_type": "execute_result"
    }
   ],
   "source": [
    "# Aggregation on client\n",
    "sum(dview.gather('sum_y'))"
   ]
  },
  {
   "cell_type": "markdown",
   "metadata": {},
   "source": [
    "The `map` method essentially combines `scatter` and `gather` into a single call:"
   ]
  },
  {
   "cell_type": "code",
   "execution_count": 59,
   "metadata": {
    "collapsed": false
   },
   "outputs": [
    {
     "data": {
      "text/plain": [
       "<AsyncMapResult: finished>"
      ]
     },
     "execution_count": 59,
     "metadata": {},
     "output_type": "execute_result"
    }
   ],
   "source": [
    "dview.map(lambda x: sum(x**2), np.split(y, 5))"
   ]
  },
  {
   "cell_type": "markdown",
   "metadata": {},
   "source": [
    "### Load balancing\n",
    "\n",
    "The `DirectView` objects we have used so far strictly allocate particular tasks to particular engines. This is often inefficient, when tasks take variable amounts of time, leaving some engines idle while some are overworked. We can use a **load balanced** view to distribute memory approximately equally among engines, to minimize idle time."
   ]
  },
  {
   "cell_type": "code",
   "execution_count": 60,
   "metadata": {
    "collapsed": false
   },
   "outputs": [
    {
     "data": {
      "text/plain": [
       "<LoadBalancedView None>"
      ]
     },
     "execution_count": 60,
     "metadata": {},
     "output_type": "execute_result"
    }
   ],
   "source": [
    "lb_view = cli.load_balanced_view()\n",
    "lb_view"
   ]
  },
  {
   "cell_type": "markdown",
   "metadata": {},
   "source": [
    "A `LoadBalancedView`, though it works with all the engines (or specified subsets of engines), behaves as if it is working with a single engine.\n",
    "\n",
    "If you do not specify the engines when the `LoadBalancedView` is created, it will use all the engines that are available when it assigns tasks."
   ]
  },
  {
   "cell_type": "code",
   "execution_count": 61,
   "metadata": {
    "collapsed": false
   },
   "outputs": [
    {
     "name": "stdout",
     "output_type": "stream",
     "text": [
      "Task 0 ran on process 95635\n",
      "Task 1 ran on process 95639\n",
      "Task 2 ran on process 95636\n",
      "Task 3 ran on process 95640\n",
      "Task 4 ran on process 95635\n",
      "Task 5 ran on process 95639\n",
      "Task 6 ran on process 95636\n",
      "Task 7 ran on process 95640\n",
      "Task 8 ran on process 95635\n",
      "Task 9 ran on process 95639\n"
     ]
    }
   ],
   "source": [
    "for i in range(10):\n",
    "    pid = lb_view.apply_sync(os.getpid)\n",
    "    print('Task {0} ran on process {1}'.format(i, pid))"
   ]
  },
  {
   "cell_type": "code",
   "execution_count": 62,
   "metadata": {
    "collapsed": false
   },
   "outputs": [],
   "source": [
    "%%px\n",
    "\n",
    "def abc(y, N, epsilon=[0.2, 0.8]):\n",
    "\n",
    "    trace = []\n",
    "\n",
    "    while len(trace) < N:\n",
    "\n",
    "        # Simulate from priors\n",
    "        mu = numpy.random.normal(0, 10)\n",
    "        sigma = numpy.random.uniform(0, 20)\n",
    "\n",
    "        x = numpy.random.normal(mu, sigma, 50)\n",
    "\n",
    "        #if (np.linalg.norm(y - x) < epsilon):\n",
    "        if ((abs(x.mean() - y.mean()) < epsilon[0]) &\n",
    "            (abs(x.std() - y.std()) < epsilon[1])):\n",
    "            trace.append([mu, sigma])\n",
    "\n",
    "    return trace"
   ]
  },
  {
   "cell_type": "code",
   "execution_count": 63,
   "metadata": {
    "collapsed": false
   },
   "outputs": [],
   "source": [
    "tasks = lb_view.map_async(lambda n: abc(y, n), [20]*5)"
   ]
  },
  {
   "cell_type": "code",
   "execution_count": 64,
   "metadata": {
    "collapsed": false
   },
   "outputs": [
    {
     "data": {
      "text/plain": [
       "['019e881e-5858-4e08-84ab-f513c2cfe82a',\n",
       " 'ecd3566e-47d9-4ee5-b4c2-88f52f23bc41',\n",
       " '4ef76b31-ed7f-425f-be58-4e6c6bea78d2',\n",
       " '4a2cc851-19c2-4bf7-bd00-3567781a3f54',\n",
       " '90ce0887-f4a6-41b8-9aa7-d6b011abd39c']"
      ]
     },
     "execution_count": 64,
     "metadata": {},
     "output_type": "execute_result"
    }
   ],
   "source": [
    "tasks.msg_ids"
   ]
  },
  {
   "cell_type": "code",
   "execution_count": 65,
   "metadata": {
    "collapsed": false
   },
   "outputs": [
    {
     "data": {
      "text/plain": [
       "array([[ 3.56464578,  3.11257598],\n",
       "       [ 3.37090437,  2.66021861],\n",
       "       [ 2.83687981,  3.28248098],\n",
       "       [ 3.11083882,  3.13851911],\n",
       "       [ 3.17391713,  2.11502161],\n",
       "       [ 3.02492689,  2.4295851 ],\n",
       "       [ 2.91745242,  1.4969612 ],\n",
       "       [ 3.12973832,  1.77987856],\n",
       "       [ 3.126879  ,  2.03139634],\n",
       "       [ 2.68719784,  2.56693108]])"
      ]
     },
     "execution_count": 65,
     "metadata": {},
     "output_type": "execute_result"
    }
   ],
   "source": [
    "result = np.concatenate(tasks.get())\n",
    "result[:10]"
   ]
  },
  {
   "cell_type": "markdown",
   "metadata": {},
   "source": [
    "Another way that you can dispatch tasks to engines is via the `parallel` decorator. This decorator is a method of the `DirectView` class that controls our engine pool. The decorated function is then disparched to the engines using the `map` method that the decorator adds to the class."
   ]
  },
  {
   "cell_type": "code",
   "execution_count": 66,
   "metadata": {
    "collapsed": false
   },
   "outputs": [],
   "source": [
    "@lb_view.parallel(block=True)\n",
    "def abc(y, N, epsilon=[0.2, 0.8]):\n",
    "    \n",
    "    trace = []\n",
    "\n",
    "    while len(trace) < N:\n",
    "\n",
    "        # Simulate from priors\n",
    "        mu = numpy.random.normal(0, 10)\n",
    "        sigma = numpy.random.uniform(0, 20)\n",
    "\n",
    "        x = numpy.random.normal(mu, sigma, 50)\n",
    "\n",
    "        #if (np.linalg.norm(y - x) < epsilon):\n",
    "        if ((abs(x.mean() - y.mean()) < epsilon[0]) &\n",
    "            (abs(x.std() - y.std()) < epsilon[1])):\n",
    "            trace.append([mu, sigma])\n",
    "\n",
    "    return trace"
   ]
  },
  {
   "cell_type": "code",
   "execution_count": 67,
   "metadata": {
    "collapsed": false
   },
   "outputs": [
    {
     "data": {
      "text/plain": [
       "[[[3.6829107351140147, 2.6981254437633306],\n",
       "  [3.8941270825698844, 1.3674494498063083],\n",
       "  [4.007262088688106, 2.476374744095593],\n",
       "  [3.4803318367496505, 1.5256588028433016],\n",
       "  [3.798020098576051, 2.476588807360456],\n",
       "  [3.8415509802314007, 2.220933877622009],\n",
       "  [3.2501607238784462, 2.3683079612349434],\n",
       "  [3.3257832558364924, 1.3619123598129113],\n",
       "  [3.565735458439705, 1.2003085836213434],\n",
       "  [4.304261179416318, 3.132955580694947],\n",
       "  [3.5448604828126355, 2.2688809764472473],\n",
       "  [3.5016641707833003, 2.104211679951502],\n",
       "  [3.8269490063905853, 2.9179017853878886],\n",
       "  [3.3235506698457886, 2.0827760435307585],\n",
       "  [3.3620679415889283, 1.7356933316605372],\n",
       "  [3.2325712273358835, 2.1285030377086267],\n",
       "  [3.391837157075497, 1.3402975847252363],\n",
       "  [3.8272565257589806, 1.4867584430285152],\n",
       "  [3.2059848218802856, 3.173184613910389],\n",
       "  [3.247080267923976, 3.4435743288659304],\n",
       "  [3.218123383364984, 2.7633575256498366],\n",
       "  [3.0449704010463368, 2.977937915829658],\n",
       "  [3.1024126867971384, 3.033614704135088],\n",
       "  [3.1405569654978525, 2.1950785697529085],\n",
       "  [3.983390364796704, 2.6802449544549045]],\n",
       " [[3.8666062297284864, 2.690541419861212],\n",
       "  [3.0604440017813945, 1.854925146779236],\n",
       "  [3.328665961338487, 1.894127844364133],\n",
       "  [3.40065069056749, 1.6688719098518745],\n",
       "  [3.2172441784270145, 2.79030787650272],\n",
       "  [3.65923110826548, 2.684508688941849],\n",
       "  [3.6018266860290944, 2.4282567305197422],\n",
       "  [3.8064058828361262, 2.091096502121541],\n",
       "  [3.477124668753005, 1.9048954792222172],\n",
       "  [3.6841531531635674, 2.8844173889417113],\n",
       "  [3.1371047951605373, 2.8815077171280468],\n",
       "  [2.717202529117531, 2.721123578701341],\n",
       "  [3.377837701608279, 3.198759000395308],\n",
       "  [3.6797959568965015, 1.825934362922308],\n",
       "  [3.955735937151063, 2.688964744294813],\n",
       "  [4.093696789326423, 2.507451480649474],\n",
       "  [3.232395181209171, 2.646768593344857],\n",
       "  [3.533127985466561, 1.567729034972738],\n",
       "  [3.269757098885295, 2.263343955631938],\n",
       "  [3.4805325400233467, 1.8576077851927342],\n",
       "  [3.274674593805849, 2.0006476227330827],\n",
       "  [4.256573890568895, 2.3948593578315025],\n",
       "  [3.4947129533296235, 2.6777209096236176],\n",
       "  [3.1848345849629274, 1.7378746983534432],\n",
       "  [3.7246814474145244, 1.926774148881183]],\n",
       " [[3.264808960694412, 1.7716022618544724],\n",
       "  [3.544313117101541, 2.5029215608438937],\n",
       "  [3.331665125017315, 2.3244384262259765],\n",
       "  [3.357167397892089, 1.6273183645265799],\n",
       "  [3.5677722586279086, 2.0085385420600255],\n",
       "  [3.574370123313483, 1.71574037138573],\n",
       "  [3.1442479393942784, 2.7092699487263094],\n",
       "  [3.840304257803215, 1.9458178777156454],\n",
       "  [3.0039936482007707, 2.4939322354632742],\n",
       "  [3.2592196766174872, 1.407558760737515],\n",
       "  [3.320901622344441, 1.8205436435522393],\n",
       "  [3.1470982300672783, 2.2826000657833023],\n",
       "  [2.9460597835530624, 2.3933573539826036],\n",
       "  [3.9410418162507757, 1.903806983591474],\n",
       "  [2.9246882094111526, 2.1805917803241015],\n",
       "  [3.6830988087137913, 2.09841091331463],\n",
       "  [3.6583295286900963, 2.6651893760392364],\n",
       "  [3.700337391378083, 1.7919949504180965],\n",
       "  [3.111803381873095, 2.1902669837446864],\n",
       "  [3.4827442967969944, 2.47196301754369],\n",
       "  [3.7453938931642488, 1.3310360944360888],\n",
       "  [3.684931118282985, 3.297689485007891],\n",
       "  [3.336040428766646, 2.5161791883115736],\n",
       "  [3.03991180161383, 1.583323257506064],\n",
       "  [3.696135208580807, 2.2764778035266042]],\n",
       " [[4.0221621739382325, 2.6144085634933822],\n",
       "  [3.5087916810647806, 2.5475651546597566],\n",
       "  [3.2021979027975247, 2.7163854134463206],\n",
       "  [3.7633141522121742, 2.4815335989573484],\n",
       "  [4.340597583071199, 2.430894976605169],\n",
       "  [3.9276595316056224, 2.0100638382247027],\n",
       "  [3.457194229008717, 1.7543392835143523],\n",
       "  [3.1900146541748153, 2.916760739277464],\n",
       "  [3.6651214627667894, 1.9044682252764966],\n",
       "  [3.6492771781475386, 1.7508315318381706],\n",
       "  [4.369546876910047, 3.4700629162609142],\n",
       "  [3.50990593397844, 1.4287381533144017],\n",
       "  [3.7930588518354327, 3.0009146192874603],\n",
       "  [3.64123178132213, 2.1112353670851003],\n",
       "  [4.286420134116674, 2.0845003684892816],\n",
       "  [3.6279019406688464, 2.4482010295068335],\n",
       "  [3.4493853825022436, 2.3451492282810826],\n",
       "  [3.631844070334221, 1.8215933812180718],\n",
       "  [3.1700809986419993, 2.2017727490660777],\n",
       "  [3.4172047328540947, 1.5700634303358396],\n",
       "  [3.277029977577024, 1.8145703165616345],\n",
       "  [3.5977500918061187, 1.5179301576954374],\n",
       "  [3.970944479903577, 2.5735732520351196],\n",
       "  [3.2888497711542812, 2.06305190719545],\n",
       "  [4.05867608836379, 2.9414811451179945]]]"
      ]
     },
     "execution_count": 67,
     "metadata": {},
     "output_type": "execute_result"
    }
   ],
   "source": [
    "abc.map([y]*4, [25]*4)"
   ]
  },
  {
   "cell_type": "markdown",
   "metadata": {},
   "source": [
    "### Parallel magics\n",
    "\n",
    "The `%px` cell magic is a \"parallel execution\" statement, which will run the code in that cell on all the engines."
   ]
  },
  {
   "cell_type": "code",
   "execution_count": 68,
   "metadata": {
    "collapsed": false
   },
   "outputs": [
    {
     "name": "stdout",
     "output_type": "stream",
     "text": [
      "[stdout:0] 95635\n",
      "[stdout:1] 95636\n",
      "[stdout:2] 95639\n",
      "[stdout:3] 95640\n"
     ]
    }
   ],
   "source": [
    "%%px \n",
    "import os\n",
    "print(os.getpid())"
   ]
  },
  {
   "cell_type": "code",
   "execution_count": 69,
   "metadata": {
    "collapsed": false
   },
   "outputs": [],
   "source": [
    "%px b = numpy.random.random()"
   ]
  },
  {
   "cell_type": "code",
   "execution_count": 70,
   "metadata": {
    "collapsed": false
   },
   "outputs": [
    {
     "data": {
      "text/plain": [
       "\u001b[0;31mOut[0:18]: \u001b[0m0.21593923584552743"
      ]
     },
     "metadata": {},
     "output_type": "display_data"
    },
    {
     "data": {
      "text/plain": [
       "\u001b[0;31mOut[1:18]: \u001b[0m0.8135247344817568"
      ]
     },
     "metadata": {},
     "output_type": "display_data"
    },
    {
     "data": {
      "text/plain": [
       "\u001b[0;31mOut[2:18]: \u001b[0m0.37690342325966897"
      ]
     },
     "metadata": {},
     "output_type": "display_data"
    },
    {
     "data": {
      "text/plain": [
       "\u001b[0;31mOut[3:18]: \u001b[0m0.25026580928078"
      ]
     },
     "metadata": {},
     "output_type": "display_data"
    }
   ],
   "source": [
    "%px b"
   ]
  },
  {
   "cell_type": "markdown",
   "metadata": {},
   "source": [
    "`%pxresult` displays the output of the last request:"
   ]
  },
  {
   "cell_type": "code",
   "execution_count": 71,
   "metadata": {
    "collapsed": false
   },
   "outputs": [
    {
     "data": {
      "text/plain": [
       "\u001b[0;31mOut[0:18]: \u001b[0m0.21593923584552743"
      ]
     },
     "metadata": {},
     "output_type": "display_data"
    },
    {
     "data": {
      "text/plain": [
       "\u001b[0;31mOut[1:18]: \u001b[0m0.8135247344817568"
      ]
     },
     "metadata": {},
     "output_type": "display_data"
    },
    {
     "data": {
      "text/plain": [
       "\u001b[0;31mOut[2:18]: \u001b[0m0.37690342325966897"
      ]
     },
     "metadata": {},
     "output_type": "display_data"
    },
    {
     "data": {
      "text/plain": [
       "\u001b[0;31mOut[3:18]: \u001b[0m0.25026580928078"
      ]
     },
     "metadata": {},
     "output_type": "display_data"
    }
   ],
   "source": [
    "%pxresult"
   ]
  },
  {
   "cell_type": "markdown",
   "metadata": {},
   "source": [
    "The `%pxconfig` magic allows you to configure blocking for the parallel magics."
   ]
  },
  {
   "cell_type": "code",
   "execution_count": 72,
   "metadata": {
    "collapsed": false
   },
   "outputs": [],
   "source": [
    "# Switch to asynchronous\n",
    "%pxconfig --block"
   ]
  },
  {
   "cell_type": "markdown",
   "metadata": {},
   "source": [
    "Remember that each engine is just another IPython, so anyting you can do in an IPython session you can also do on an engine."
   ]
  },
  {
   "cell_type": "code",
   "execution_count": 73,
   "metadata": {
    "collapsed": false
   },
   "outputs": [],
   "source": [
    "%px %matplotlib inline"
   ]
  },
  {
   "cell_type": "code",
   "execution_count": 74,
   "metadata": {
    "collapsed": false
   },
   "outputs": [],
   "source": [
    "%px samples = abc(y, 100)"
   ]
  },
  {
   "cell_type": "code",
   "execution_count": 75,
   "metadata": {
    "collapsed": false
   },
   "outputs": [
    {
     "data": {
      "text/plain": [
       "[output:0]"
      ]
     },
     "metadata": {},
     "output_type": "display_data"
    },
    {
     "data": {
      "image/png": "[encoded data removed]",
      "text/plain": [
       "<matplotlib.figure.Figure at 0x1059b1898>"
      ]
     },
     "metadata": {
      "engine": 0
     },
     "output_type": "display_data"
    },
    {
     "data": {
      "text/plain": [
       "[output:1]"
      ]
     },
     "metadata": {},
     "output_type": "display_data"
    },
    {
     "data": {
      "image/png": "[encoded data removed]",
      "text/plain": [
       "<matplotlib.figure.Figure at 0x105979eb8>"
      ]
     },
     "metadata": {
      "engine": 1
     },
     "output_type": "display_data"
    },
    {
     "data": {
      "text/plain": [
       "[output:2]"
      ]
     },
     "metadata": {},
     "output_type": "display_data"
    },
    {
     "data": {
      "image/png": "[encoded data removed]",
      "text/plain": [
       "<matplotlib.figure.Figure at 0x1059832b0>"
      ]
     },
     "metadata": {
      "engine": 2
     },
     "output_type": "display_data"
    },
    {
     "data": {
      "text/plain": [
       "[output:3]"
      ]
     },
     "metadata": {},
     "output_type": "display_data"
    },
    {
     "data": {
      "image/png": "[encoded data removed]",
      "text/plain": [
       "<matplotlib.figure.Figure at 0x105a90c18>"
      ]
     },
     "metadata": {
      "engine": 3
     },
     "output_type": "display_data"
    }
   ],
   "source": [
    "%%px \n",
    "import matplotlib.pyplot as plt\n",
    "import os\n",
    "tsamples = numpy.transpose(samples)\n",
    "plt.hist(tsamples[0])\n",
    "plt.hist(tsamples[1])\n",
    "_ = plt.title('PID %i' % os.getpid())"
   ]
  },
  {
   "cell_type": "markdown",
   "metadata": {},
   "source": [
    "For profiling, we can also use the `%timeit` magic to compare performance on the engines:"
   ]
  },
  {
   "cell_type": "code",
   "execution_count": 76,
   "metadata": {
    "collapsed": false
   },
   "outputs": [
    {
     "name": "stdout",
     "output_type": "stream",
     "text": [
      "[stdout:0] 1 loops, best of 3: 895 ms per loop\n",
      "[stdout:1] 1 loops, best of 3: 863 ms per loop\n",
      "[stdout:2] 1 loops, best of 3: 787 ms per loop\n",
      "[stdout:3] 1 loops, best of 3: 1.28 s per loop\n"
     ]
    }
   ],
   "source": [
    "%%px\n",
    "%%timeit\n",
    "s = abc(y, 10)"
   ]
  },
  {
   "cell_type": "markdown",
   "metadata": {},
   "source": [
    "## Cython Parallel\n",
    "\n",
    "In order to use Cython in parallel on IPython, we need to load and execute `cythonmagic` on all engines."
   ]
  },
  {
   "cell_type": "code",
   "execution_count": 77,
   "metadata": {
    "collapsed": false
   },
   "outputs": [
    {
     "name": "stdout",
     "output_type": "stream",
     "text": [
      "[stdout:0] \n",
      "The cython extension is already loaded. To reload it, use:\n",
      "  %reload_ext cython\n",
      "[stdout:1] \n",
      "The cython extension is already loaded. To reload it, use:\n",
      "  %reload_ext cython\n",
      "[stdout:2] \n",
      "The cython extension is already loaded. To reload it, use:\n",
      "  %reload_ext cython\n",
      "[stdout:3] \n",
      "The cython extension is already loaded. To reload it, use:\n",
      "  %reload_ext cython\n"
     ]
    }
   ],
   "source": [
    "%px %load_ext cython"
   ]
  },
  {
   "cell_type": "markdown",
   "metadata": {},
   "source": [
    "As an example, let's use the Cythonized Gibbs sampler from the last lecture."
   ]
  },
  {
   "cell_type": "code",
   "execution_count": 78,
   "metadata": {
    "collapsed": false
   },
   "outputs": [],
   "source": [
    "%%px\n",
    "%%cython\n",
    "\n",
    "from numpy import zeros, random\n",
    "from numpy cimport *\n",
    "from libc.math cimport sqrt\n",
    "gamma = random.gamma\n",
    "normal = random.normal\n",
    "\n",
    "def gibbs(int N=20000, int thin=200):\n",
    "    cdef: \n",
    "        ndarray[float64_t, ndim=2] mat = zeros((N,2))\n",
    "        float64_t x,y = 0\n",
    "        int i,j\n",
    "    for i in range(N):\n",
    "        for j in range(thin):\n",
    "            x = gamma(3, y**2 + 4)\n",
    "            y = normal(1./(x+1), 1./sqrt(2*(x+1)))\n",
    "        mat[i] = x,y\n",
    "\n",
    "    return mat"
   ]
  },
  {
   "cell_type": "markdown",
   "metadata": {},
   "source": [
    "Divide the array by the number of nodes.  In this case they divide evenly, a more general partitioning of sizes is easy to do as well."
   ]
  },
  {
   "cell_type": "code",
   "execution_count": 79,
   "metadata": {
    "collapsed": false
   },
   "outputs": [
    {
     "data": {
      "text/plain": [
       "[0, 1, 2, 3]"
      ]
     },
     "execution_count": 79,
     "metadata": {},
     "output_type": "execute_result"
    }
   ],
   "source": [
    "cli.ids"
   ]
  },
  {
   "cell_type": "code",
   "execution_count": 80,
   "metadata": {
    "collapsed": false
   },
   "outputs": [
    {
     "data": {
      "text/plain": [
       "[25000.0, 25000.0, 25000.0, 25000.0]"
      ]
     },
     "execution_count": 80,
     "metadata": {},
     "output_type": "execute_result"
    }
   ],
   "source": [
    "N = 100000\n",
    "thin = 10\n",
    "n = N/len(cli.ids)\n",
    "dv = cli[:]\n",
    "dv.push(dict(n=n, thin=thin))\n",
    "# Let's just confirm visually we got what we expect\n",
    "dv['n']"
   ]
  },
  {
   "cell_type": "markdown",
   "metadata": {},
   "source": [
    "We can time the execution of the gibbs sampler on the remote nodes"
   ]
  },
  {
   "cell_type": "code",
   "execution_count": 81,
   "metadata": {
    "collapsed": false
   },
   "outputs": [],
   "source": [
    "%pxconfig --noblock"
   ]
  },
  {
   "cell_type": "code",
   "execution_count": 82,
   "metadata": {
    "collapsed": false
   },
   "outputs": [
    {
     "name": "stdout",
     "output_type": "stream",
     "text": [
      "The slowest run took 14.63 times longer than the fastest. This could mean that an intermediate result is being cached \n",
      "100 loops, best of 3: 2.83 ms per loop\n"
     ]
    }
   ],
   "source": [
    "%timeit dv.execute('gibbs(n, thin)')"
   ]
  },
  {
   "cell_type": "markdown",
   "metadata": {},
   "source": [
    "But a more realistic (and costly) benchmark must also include the cost of bringing the results back from the cluster engines to our local namespace.  For that, we assign the call to the variable `a` on each node and then use the view's `gather` method to pull them back in:"
   ]
  },
  {
   "cell_type": "code",
   "execution_count": 83,
   "metadata": {
    "collapsed": false
   },
   "outputs": [
    {
     "name": "stdout",
     "output_type": "stream",
     "text": [
      "100 loops, best of 3: 8.26 ms per loop\n"
     ]
    }
   ],
   "source": [
    "%%timeit\n",
    "dv.execute('a = gibbs(n, thin)')\n",
    "a = dv.gather('a')"
   ]
  },
  {
   "cell_type": "markdown",
   "metadata": {},
   "source": [
    "Let's compare this to the same number of samples executed on a single process:"
   ]
  },
  {
   "cell_type": "code",
   "execution_count": 84,
   "metadata": {
    "collapsed": false
   },
   "outputs": [],
   "source": [
    "%load_ext cython"
   ]
  },
  {
   "cell_type": "code",
   "execution_count": 85,
   "metadata": {
    "collapsed": false
   },
   "outputs": [],
   "source": [
    "%%cython\n",
    "\n",
    "from libc.math cimport sqrt\n",
    "from numpy import zeros, random\n",
    "from numpy cimport *\n",
    "gamma = random.gamma\n",
    "normal = random.normal\n",
    "\n",
    "def gibbs(int N=20000, int thin=200):\n",
    "    cdef: \n",
    "        ndarray[float64_t, ndim=2] mat = zeros((N,2))\n",
    "        float64_t x,y = 0\n",
    "        int i,j\n",
    "    for i in range(N):\n",
    "        for j in range(thin):\n",
    "            x = gamma(3, y**2 + 4)\n",
    "            y = normal(1./(x+1), 1./sqrt(2*(x+1)))\n",
    "        mat[i] = x,y\n",
    "\n",
    "    return mat"
   ]
  },
  {
   "cell_type": "code",
   "execution_count": 86,
   "metadata": {
    "collapsed": false
   },
   "outputs": [
    {
     "name": "stdout",
     "output_type": "stream",
     "text": [
      "1 loops, best of 3: 1.54 s per loop\n"
     ]
    }
   ],
   "source": [
    "%%timeit \n",
    "a = gibbs(N, thin)"
   ]
  },
  {
   "cell_type": "markdown",
   "metadata": {},
   "source": [
    "## Exercise\n",
    "\n",
    "Run parallel chains of the `disaster_model` example from PyMC and return the resulting traces to your client, for plotting and summarization."
   ]
  },
  {
   "cell_type": "code",
   "execution_count": null,
   "metadata": {
    "collapsed": false
   },
   "outputs": [],
   "source": [
    "# Write your answer here"
   ]
  },
  {
   "cell_type": "markdown",
   "metadata": {},
   "source": [
    "## References\n",
    "\n",
    "[Scientific Python Lectures](http://github.com/jrjohansson/scientific-python-lectures) by Robert Johansson\n",
    "\n",
    "[Using IPython for Parallel Computing](http://ipython.org/ipython-doc/dev/parallel/)"
   ]
  }
 ],
 "metadata": {
  "kernelspec": {
   "display_name": "Python 3",
   "language": "python",
   "name": "python3"
  },
  "language_info": {
   "codemirror_mode": {
    "name": "ipython",
    "version": 3
   },
   "file_extension": ".py",
   "mimetype": "text/x-python",
   "name": "python",
   "nbconvert_exporter": "python",
   "pygments_lexer": "ipython3",
   "version": "3.5.0"
  }
 },
 "nbformat": 4,
 "nbformat_minor": 0
}
